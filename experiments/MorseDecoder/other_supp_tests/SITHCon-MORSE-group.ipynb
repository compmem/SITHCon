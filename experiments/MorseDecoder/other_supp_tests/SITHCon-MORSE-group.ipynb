{
 "cells": [
  {
   "cell_type": "code",
   "execution_count": 2,
   "metadata": {
    "ExecuteTime": {
     "end_time": "2021-03-30T16:06:46.735256Z",
     "start_time": "2021-03-30T16:06:46.530897Z"
    }
   },
   "outputs": [],
   "source": [
    "%matplotlib inline"
   ]
  },
  {
   "cell_type": "code",
   "execution_count": 3,
   "metadata": {
    "ExecuteTime": {
     "end_time": "2021-03-30T16:06:47.249838Z",
     "start_time": "2021-03-30T16:06:46.736376Z"
    }
   },
   "outputs": [
    {
     "name": "stdout",
     "output_type": "stream",
     "text": [
      "<class 'torch.cuda.FloatTensor'>\n"
     ]
    }
   ],
   "source": [
    "import matplotlib.pyplot as plt\n",
    "import seaborn as sn\n",
    "sn.set_context(\"poster\")\n",
    "\n",
    "import torch\n",
    "from torch import nn as nn\n",
    "ttype = torch.cuda.FloatTensor if torch.cuda.is_available() else torch.FloatTensor\n",
    "ctype = torch.cuda.LongTensor if torch.cuda.is_available() else torch.LongTensor\n",
    "print(ttype)\n",
    "import torch.nn.functional as F\n",
    "from matplotlib import gridspec\n",
    "from sithcon import SITHCon_Layer, _SITHCon_Core, iSITH\n",
    "\n",
    "from tqdm.notebook import tqdm\n",
    "\n",
    "import itertools\n",
    "from csv import DictWriter\n",
    "import os \n",
    "from os.path import join\n",
    "import glob\n",
    "\n",
    "import numpy as np\n",
    "import pandas as pd\n",
    "import pickle\n",
    "from math import factorial\n",
    "import random"
   ]
  },
  {
   "cell_type": "code",
   "execution_count": 4,
   "metadata": {
    "ExecuteTime": {
     "end_time": "2021-03-30T16:06:47.255268Z",
     "start_time": "2021-03-30T16:06:47.251413Z"
    }
   },
   "outputs": [],
   "source": [
    "MORSE_CODE_DICT = { 'A':'.-', 'B':'-...', \n",
    "                    'C':'-.-.', 'D':'-..', 'E':'.', \n",
    "                    'F':'..-.', 'G':'--.', 'H':'....', \n",
    "                    'I':'..', 'J':'.---', 'K':'-.-', \n",
    "                    'L':'.-..', 'M':'--', 'N':'-.', \n",
    "                    'O':'---', 'P':'.--.', 'Q':'--.-', \n",
    "                    'R':'.-.', 'S':'...', 'T':'-', \n",
    "                    'U':'..-', 'V':'...-', 'W':'.--', \n",
    "                    'X':'-..-', 'Y':'-.--', 'Z':'--..', \n",
    "                    '1':'.----', '2':'..---', '3':'...--', \n",
    "                    '4':'....-', '5':'.....', '6':'-....', \n",
    "                    '7':'--...', '8':'---..', '9':'----.', \n",
    "                    '0':'-----', ', ':'--..--', '.':'.-.-.-', \n",
    "                    '?':'..--..', '/':'-..-.', '-':'-....-', \n",
    "                    '(':'-.--.', ')':'-.--.-'} "
   ]
  },
  {
   "cell_type": "code",
   "execution_count": 5,
   "metadata": {
    "ExecuteTime": {
     "end_time": "2021-03-30T16:06:47.275956Z",
     "start_time": "2021-03-30T16:06:47.256755Z"
    }
   },
   "outputs": [
    {
     "name": "stdout",
     "output_type": "stream",
     "text": [
      "..--.. 1010111011101010\n",
      "\n",
      "[1 0 1 1 1 0 0 0] A\n",
      "[1 1 1 0 1 0 1 0 1 0 0 0] B\n",
      "[1 1 1 0 1 0 1 1 1 0 1 0 0 0] C\n",
      "[1 1 1 0 1 0 1 0 0 0] D\n",
      "[1 0 0 0] E\n",
      "[1 0 1 0 1 1 1 0 1 0 0 0] F\n",
      "[1 1 1 0 1 1 1 0 1 0 0 0] G\n",
      "[1 0 1 0 1 0 1 0 0 0] H\n",
      "[1 0 1 0 0 0] I\n",
      "[1 0 1 1 1 0 1 1 1 0 1 1 1 0 0 0] J\n",
      "[1 1 1 0 1 0 1 1 1 0 0 0] K\n",
      "[1 0 1 1 1 0 1 0 1 0 0 0] L\n",
      "[1 1 1 0 1 1 1 0 0 0] M\n",
      "[1 1 1 0 1 0 0 0] N\n",
      "[1 1 1 0 1 1 1 0 1 1 1 0 0 0] O\n",
      "[1 0 1 1 1 0 1 1 1 0 1 0 0 0] P\n",
      "[1 1 1 0 1 1 1 0 1 0 1 1 1 0 0 0] Q\n",
      "[1 0 1 1 1 0 1 0 0 0] R\n",
      "[1 0 1 0 1 0 0 0] S\n",
      "[1 1 1 0 0 0] T\n",
      "[1 0 1 0 1 1 1 0 0 0] U\n",
      "[1 0 1 0 1 0 1 1 1 0 0 0] V\n",
      "[1 0 1 1 1 0 1 1 1 0 0 0] W\n",
      "[1 1 1 0 1 0 1 0 1 1 1 0 0 0] X\n",
      "[1 1 1 0 1 0 1 1 1 0 1 1 1 0 0 0] Y\n",
      "[1 1 1 0 1 1 1 0 1 0 1 0 0 0] Z\n",
      "[1 0 1 1 1 0 1 1 1 0 1 1 1 0 1 1 1 0 0 0] 1\n",
      "[1 0 1 0 1 1 1 0 1 1 1 0 1 1 1 0 0 0] 2\n",
      "[1 0 1 0 1 0 1 1 1 0 1 1 1 0 0 0] 3\n",
      "[1 0 1 0 1 0 1 0 1 1 1 0 0 0] 4\n",
      "[1 0 1 0 1 0 1 0 1 0 0 0] 5\n",
      "[1 1 1 0 1 0 1 0 1 0 1 0 0 0] 6\n",
      "[1 1 1 0 1 1 1 0 1 0 1 0 1 0 0 0] 7\n",
      "[1 1 1 0 1 1 1 0 1 1 1 0 1 0 1 0 0 0] 8\n",
      "[1 1 1 0 1 1 1 0 1 1 1 0 1 1 1 0 1 0 0 0] 9\n",
      "[1 1 1 0 1 1 1 0 1 1 1 0 1 1 1 0 1 1 1 0 0 0] 0\n",
      "[1 1 1 0 1 1 1 0 1 0 1 0 1 1 1 0 1 1 1 0 0 0] , \n",
      "[1 0 1 1 1 0 1 0 1 1 1 0 1 0 1 1 1 0 0 0] .\n",
      "[1 0 1 0 1 1 1 0 1 1 1 0 1 0 1 0 0 0] ?\n",
      "[1 1 1 0 1 0 1 0 1 1 1 0 1 0 0 0] /\n",
      "[1 1 1 0 1 0 1 0 1 0 1 0 1 1 1 0 0 0] -\n",
      "[1 1 1 0 1 0 1 1 1 0 1 1 1 0 1 0 0 0] (\n",
      "[1 1 1 0 1 0 1 1 1 0 1 1 1 0 1 0 1 1 1 0 0 0] )\n"
     ]
    }
   ],
   "source": [
    "print(MORSE_CODE_DICT['?'], MORSE_CODE_DICT['?'].replace('.', '10').replace('-', '1110'))\n",
    "print()\n",
    "morse_code_numpy = {key:np.array([int(x) for x in MORSE_CODE_DICT[key].replace('.', '10').replace('-', '1110')] + [0, 0])\n",
    "                    for key in MORSE_CODE_DICT.keys()}\n",
    "for k in morse_code_numpy.keys():\n",
    "    #if len(morse_code_numpy[k]) == 12:\n",
    "    #    print(morse_code_numpy[k], k)\n",
    "    print(morse_code_numpy[k], k)\n",
    "subset = list(morse_code_numpy.keys())\n",
    "#subset = ['3', '7', 'Y', 'Q', 'J',\n",
    "#          'M', 'R', 'U', 'H', 'D']"
   ]
  },
  {
   "cell_type": "code",
   "execution_count": 6,
   "metadata": {
    "ExecuteTime": {
     "end_time": "2021-03-30T16:06:49.243295Z",
     "start_time": "2021-03-30T16:06:47.276901Z"
    }
   },
   "outputs": [
    {
     "name": "stdout",
     "output_type": "stream",
     "text": [
      "[tensor([1., 0., 1., 1., 1., 0., 0., 0.], device='cuda:0'), tensor([1., 1., 1., 0., 1., 0., 1., 0., 1., 0., 0., 0.], device='cuda:0'), tensor([1., 1., 1., 0., 1., 0., 1., 1., 1., 0., 1., 0., 0., 0.],\n",
      "       device='cuda:0'), tensor([1., 1., 1., 0., 1., 0., 1., 0., 0., 0.], device='cuda:0'), tensor([1., 0., 0., 0.], device='cuda:0'), tensor([1., 0., 1., 0., 1., 1., 1., 0., 1., 0., 0., 0.], device='cuda:0'), tensor([1., 1., 1., 0., 1., 1., 1., 0., 1., 0., 0., 0.], device='cuda:0'), tensor([1., 0., 1., 0., 1., 0., 1., 0., 0., 0.], device='cuda:0'), tensor([1., 0., 1., 0., 0., 0.], device='cuda:0'), tensor([1., 0., 1., 1., 1., 0., 1., 1., 1., 0., 1., 1., 1., 0., 0., 0.],\n",
      "       device='cuda:0'), tensor([1., 1., 1., 0., 1., 0., 1., 1., 1., 0., 0., 0.], device='cuda:0'), tensor([1., 0., 1., 1., 1., 0., 1., 0., 1., 0., 0., 0.], device='cuda:0'), tensor([1., 1., 1., 0., 1., 1., 1., 0., 0., 0.], device='cuda:0'), tensor([1., 1., 1., 0., 1., 0., 0., 0.], device='cuda:0'), tensor([1., 1., 1., 0., 1., 1., 1., 0., 1., 1., 1., 0., 0., 0.],\n",
      "       device='cuda:0'), tensor([1., 0., 1., 1., 1., 0., 1., 1., 1., 0., 1., 0., 0., 0.],\n",
      "       device='cuda:0'), tensor([1., 1., 1., 0., 1., 1., 1., 0., 1., 0., 1., 1., 1., 0., 0., 0.],\n",
      "       device='cuda:0'), tensor([1., 0., 1., 1., 1., 0., 1., 0., 0., 0.], device='cuda:0'), tensor([1., 0., 1., 0., 1., 0., 0., 0.], device='cuda:0'), tensor([1., 1., 1., 0., 0., 0.], device='cuda:0'), tensor([1., 0., 1., 0., 1., 1., 1., 0., 0., 0.], device='cuda:0'), tensor([1., 0., 1., 0., 1., 0., 1., 1., 1., 0., 0., 0.], device='cuda:0'), tensor([1., 0., 1., 1., 1., 0., 1., 1., 1., 0., 0., 0.], device='cuda:0'), tensor([1., 1., 1., 0., 1., 0., 1., 0., 1., 1., 1., 0., 0., 0.],\n",
      "       device='cuda:0'), tensor([1., 1., 1., 0., 1., 0., 1., 1., 1., 0., 1., 1., 1., 0., 0., 0.],\n",
      "       device='cuda:0'), tensor([1., 1., 1., 0., 1., 1., 1., 0., 1., 0., 1., 0., 0., 0.],\n",
      "       device='cuda:0'), tensor([1., 0., 1., 1., 1., 0., 1., 1., 1., 0., 1., 1., 1., 0., 1., 1., 1., 0.,\n",
      "        0., 0.], device='cuda:0'), tensor([1., 0., 1., 0., 1., 1., 1., 0., 1., 1., 1., 0., 1., 1., 1., 0., 0., 0.],\n",
      "       device='cuda:0'), tensor([1., 0., 1., 0., 1., 0., 1., 1., 1., 0., 1., 1., 1., 0., 0., 0.],\n",
      "       device='cuda:0'), tensor([1., 0., 1., 0., 1., 0., 1., 0., 1., 1., 1., 0., 0., 0.],\n",
      "       device='cuda:0'), tensor([1., 0., 1., 0., 1., 0., 1., 0., 1., 0., 0., 0.], device='cuda:0'), tensor([1., 1., 1., 0., 1., 0., 1., 0., 1., 0., 1., 0., 0., 0.],\n",
      "       device='cuda:0'), tensor([1., 1., 1., 0., 1., 1., 1., 0., 1., 0., 1., 0., 1., 0., 0., 0.],\n",
      "       device='cuda:0'), tensor([1., 1., 1., 0., 1., 1., 1., 0., 1., 1., 1., 0., 1., 0., 1., 0., 0., 0.],\n",
      "       device='cuda:0'), tensor([1., 1., 1., 0., 1., 1., 1., 0., 1., 1., 1., 0., 1., 1., 1., 0., 1., 0.,\n",
      "        0., 0.], device='cuda:0'), tensor([1., 1., 1., 0., 1., 1., 1., 0., 1., 1., 1., 0., 1., 1., 1., 0., 1., 1.,\n",
      "        1., 0., 0., 0.], device='cuda:0'), tensor([1., 1., 1., 0., 1., 1., 1., 0., 1., 0., 1., 0., 1., 1., 1., 0., 1., 1.,\n",
      "        1., 0., 0., 0.], device='cuda:0'), tensor([1., 0., 1., 1., 1., 0., 1., 0., 1., 1., 1., 0., 1., 0., 1., 1., 1., 0.,\n",
      "        0., 0.], device='cuda:0'), tensor([1., 0., 1., 0., 1., 1., 1., 0., 1., 1., 1., 0., 1., 0., 1., 0., 0., 0.],\n",
      "       device='cuda:0'), tensor([1., 1., 1., 0., 1., 0., 1., 0., 1., 1., 1., 0., 1., 0., 0., 0.],\n",
      "       device='cuda:0'), tensor([1., 1., 1., 0., 1., 0., 1., 0., 1., 0., 1., 0., 1., 1., 1., 0., 0., 0.],\n",
      "       device='cuda:0'), tensor([1., 1., 1., 0., 1., 0., 1., 1., 1., 0., 1., 1., 1., 0., 1., 0., 0., 0.],\n",
      "       device='cuda:0'), tensor([1., 1., 1., 0., 1., 0., 1., 1., 1., 0., 1., 1., 1., 0., 1., 0., 1., 1.,\n",
      "        1., 0., 0., 0.], device='cuda:0')] tensor([ 0,  1,  2,  3,  4,  5,  6,  7,  8,  9, 10, 11, 12, 13, 14, 15, 16, 17,\n",
      "        18, 19, 20, 21, 22, 23, 24, 25, 26, 27, 28, 29, 30, 31, 32, 33, 34, 35,\n",
      "        36, 37, 38, 39, 40, 41, 42])\n"
     ]
    }
   ],
   "source": [
    "id2key = subset\n",
    "key2id = {}\n",
    "for idx, s in enumerate(subset):\n",
    "    key2id[s] = idx\n",
    "\n",
    "X = [ttype(morse_code_numpy[k])for k in subset]\n",
    "Y = torch.LongTensor(np.arange(0,len(X)))\n",
    "print(X, Y)"
   ]
  },
  {
   "cell_type": "code",
   "execution_count": 12,
   "metadata": {
    "ExecuteTime": {
     "end_time": "2021-03-30T16:07:29.785017Z",
     "start_time": "2021-03-30T16:07:29.741364Z"
    }
   },
   "outputs": [
    {
     "name": "stdout",
     "output_type": "stream",
     "text": [
      "torch.Size([1, 1, 2, 8])\n"
     ]
    }
   ],
   "source": [
    "sp1 = dict(in_features=2, \n",
    "           tau_min=.1, tau_max=500.0, buff_max=1000,\n",
    "           dt=1, ntau=500, k=30, g=0.0, ttype=ttype, \n",
    "           channels=50, kernel_width=15, dilation=3, groups=2,\n",
    "           dropout=None, batch_norm=None)\n",
    "sith = _SITHCon_Core(sp1).cuda()\n",
    "SL = SITHCon_Layer(sp1, act_func=nn.ReLU).cuda()\n",
    "iv = X[0].unsqueeze(0).unsqueeze(0).unsqueeze(0).to('cuda')\n",
    "iv = iv.unsqueeze(-1)\n",
    "iv = iv.repeat(1,1,1,2,1)\n",
    "iv = iv.reshape(1,1,2,-1)\n",
    "print(iv.shape)"
   ]
  },
  {
   "cell_type": "code",
   "execution_count": 13,
   "metadata": {
    "ExecuteTime": {
     "end_time": "2021-03-30T16:07:30.026691Z",
     "start_time": "2021-03-30T16:07:30.021755Z"
    }
   },
   "outputs": [
    {
     "name": "stdout",
     "output_type": "stream",
     "text": [
      "torch.Size([1, 500, 2, 8])\n",
      "torch.Size([1, 8, 2, 500])\n",
      "torch.Size([8, 100, 458])\n"
     ]
    },
    {
     "data": {
      "text/plain": [
       "torch.Size([1, 1, 100, 8])"
      ]
     },
     "execution_count": 13,
     "metadata": {},
     "output_type": "execute_result"
    }
   ],
   "source": [
    "batch_size = iv.shape[0]\n",
    "seq_size = iv.shape[-1]\n",
    "x = sith.sith(iv)\n",
    "print(x.shape)\n",
    "# Swap sequence and features \n",
    "x = x.transpose(3,1)\n",
    "print(x.shape)\n",
    "x = sith.conv(x.reshape(-1, x.shape[2], x.shape[3]))\n",
    "print(x.shape)\n",
    "SL(iv).shape"
   ]
  },
  {
   "cell_type": "code",
   "execution_count": 18,
   "metadata": {
    "ExecuteTime": {
     "end_time": "2021-03-30T16:09:51.643611Z",
     "start_time": "2021-03-30T16:09:51.606825Z"
    }
   },
   "outputs": [],
   "source": [
    "sp1 = dict(in_features=1, \n",
    "           tau_min=.1, tau_max=500.0, buff_max=1000,\n",
    "           dt=1, ntau=500, k=30, g=0.0, ttype=ttype, \n",
    "           channels=50, kernel_width=15, dilation=3, groups=1,\n",
    "           dropout=None, batch_norm=None)\n",
    "sith = _SITHCon_Core(sp1).cuda()\n",
    "SL = SITHCon_Layer(sp1, act_func=nn.ReLU).cuda()"
   ]
  },
  {
   "cell_type": "code",
   "execution_count": 19,
   "metadata": {
    "ExecuteTime": {
     "end_time": "2021-03-30T16:09:52.315456Z",
     "start_time": "2021-03-30T16:09:52.300616Z"
    }
   },
   "outputs": [
    {
     "name": "stdout",
     "output_type": "stream",
     "text": [
      "torch.Size([1, 1, 1, 8])\n",
      "torch.Size([1, 500, 1, 8])\n",
      "torch.Size([1, 8, 1, 500])\n",
      "torch.Size([8, 50, 458])\n",
      "torch.Size([8, 50, 1])\n",
      "torch.Size([1, 8, 50])\n"
     ]
    }
   ],
   "source": [
    "\n",
    "iv = X[0].unsqueeze(0).unsqueeze(0).unsqueeze(0).to('cuda')\n",
    "\n",
    "print(iv.shape)\n",
    "#print(sith(iv).shape)\n",
    "batch_size = iv.shape[0]\n",
    "seq_size = iv.shape[-1]\n",
    "\n",
    "x = sith.sith(iv)\n",
    "print(x.shape)\n",
    "# Swap sequence and features \n",
    "x = x.transpose(3,1)\n",
    "\n",
    "print(x.shape)\n",
    "x = sith.conv(x.reshape(-1, x.shape[2], x.shape[3]))\n",
    "print(x.shape)\n",
    "x = sith.maxp(x.squeeze(2))\n",
    "print(x.shape)\n",
    "x = x.reshape(batch_size, seq_size, -1)\n",
    "print(x.shape)\n"
   ]
  },
  {
   "cell_type": "code",
   "execution_count": 20,
   "metadata": {
    "ExecuteTime": {
     "end_time": "2021-03-30T16:09:53.338008Z",
     "start_time": "2021-03-30T16:09:53.327179Z"
    }
   },
   "outputs": [
    {
     "data": {
      "text/plain": [
       "torch.Size([1, 1, 50, 8])"
      ]
     },
     "execution_count": 20,
     "metadata": {},
     "output_type": "execute_result"
    }
   ],
   "source": [
    "SL(iv).shape"
   ]
  },
  {
   "cell_type": "code",
   "execution_count": 25,
   "metadata": {
    "ExecuteTime": {
     "end_time": "2021-03-30T16:11:35.414201Z",
     "start_time": "2021-03-30T16:11:35.375970Z"
    }
   },
   "outputs": [
    {
     "name": "stdout",
     "output_type": "stream",
     "text": [
      "torch.Size([1, 1, 100, 8])\n",
      "torch.Size([1, 1, 50, 8])\n",
      "torch.Size([1, 8, 43])\n"
     ]
    }
   ],
   "source": [
    "sp1 = dict(in_features=2, \n",
    "           tau_min=.1, tau_max=500.0, buff_max=1000,\n",
    "           dt=1, ntau=500, k=30, g=0.0, ttype=ttype, \n",
    "           channels=50, kernel_width=15, dilation=3, groups=2,\n",
    "           dropout=None, batch_norm=None)\n",
    "layer_params = [sp1]\n",
    "\n",
    "model = SITHCon_Classifier(len(X), layer_params, act_func=nn.ReLU).cuda()\n",
    "iv = X[0].unsqueeze(0).unsqueeze(0).unsqueeze(0).to('cuda')\n",
    "iv = iv.unsqueeze(-1)\n",
    "iv = iv.repeat(1,1,1,2,1)\n",
    "iv = iv.reshape(1,1,2,-1)\n",
    "print(model(iv).shape)"
   ]
  },
  {
   "cell_type": "code",
   "execution_count": 27,
   "metadata": {
    "ExecuteTime": {
     "end_time": "2021-03-30T16:15:08.552912Z",
     "start_time": "2021-03-30T16:15:08.529175Z"
    }
   },
   "outputs": [],
   "source": [
    "class SITHCon_Classifier(nn.Module):\n",
    "    def __init__(self, out_classes, layer_params, \n",
    "                 act_func=nn.ReLU, batch_norm=False,\n",
    "                 dropout=.2):\n",
    "        super(SITHCon_Classifier, self).__init__()\n",
    "        last_channels = layer_params[-1]['channels']\n",
    "        temp_tran = []\n",
    "        for l in layer_params:\n",
    "            if l['groups'] == 1:\n",
    "                temp_tran.append(nn.Linear(l['channels'], l['channels']))\n",
    "            elif l['groups'] == l['in_features']: \n",
    "                temp_tran.append(nn.Linear(l['channels']*l['groups'], l['channels']))\n",
    "        self.transform_linears = nn.ModuleList(temp_tran)\n",
    "        \n",
    "        self.sithcon_layers = nn.ModuleList([SITHCon_Layer(l, act_func) for l in layer_params])\n",
    "        self.to_out = nn.Linear(last_channels, out_classes)\n",
    "        \n",
    "        \n",
    "    def forward(self, inp):\n",
    "        \n",
    "        x = inp\n",
    "        #out = []\n",
    "        for i in range(len(self.sithcon_layers)):\n",
    "            x = self.sithcon_layers[i](x)\n",
    "            x = self.transform_linears[i](x[:,0,:,:].transpose(1,2))\n",
    "            x = x.unsqueeze(1).transpose(2,3)\n",
    "\n",
    "            #out.append(x.clone())\n",
    "        x = x.transpose(2,3)[:, 0, :, :]\n",
    "        #x = x.transpose(2,3)[:, 0, :, :]\n",
    "        x = self.to_out(x)\n",
    "        return x"
   ]
  },
  {
   "cell_type": "markdown",
   "metadata": {},
   "source": [
    "# One Layer"
   ]
  },
  {
   "cell_type": "code",
   "execution_count": 10,
   "metadata": {
    "ExecuteTime": {
     "end_time": "2021-03-22T14:18:19.360076Z",
     "start_time": "2021-03-22T14:18:16.230047Z"
    }
   },
   "outputs": [
    {
     "name": "stdout",
     "output_type": "stream",
     "text": [
      "Total Weights: 5543\n",
      "SITHCon_Classifier(\n",
      "  (transform_linears): ModuleList(\n",
      "    (0): Linear(in_features=50, out_features=50, bias=True)\n",
      "  )\n",
      "  (sithcon_layers): ModuleList(\n",
      "    (0): SITHCon_Layer(\n",
      "      (sithcon): _SITHCon_Core(\n",
      "        (sith): iSITH(ntau=500, tau_min=0.1, tau_max=500.0, buff_max=1000, dt=1, k=30, g=0.0)\n",
      "        (conv): Conv2d(1, 50, kernel_size=(1, 15), stride=(1, 1), dilation=(1, 3), bias=False)\n",
      "        (maxp): MaxPool1d(kernel_size=458, stride=458, padding=0, dilation=1, ceil_mode=False)\n",
      "      )\n",
      "      (act_func): ReLU()\n",
      "    )\n",
      "  )\n",
      "  (to_out): Linear(in_features=50, out_features=43, bias=True)\n",
      ")\n"
     ]
    },
    {
     "data": {
      "application/vnd.jupyter.widget-view+json": {
       "model_id": "4954115f4f3f43bb976289978e064f64",
       "version_major": 2,
       "version_minor": 0
      },
      "text/plain": [
       "HBox(children=(FloatProgress(value=0.0, max=5000.0), HTML(value='')))"
      ]
     },
     "metadata": {},
     "output_type": "display_data"
    },
    {
     "name": "stdout",
     "output_type": "stream",
     "text": [
      "\n"
     ]
    },
    {
     "ename": "KeyboardInterrupt",
     "evalue": "",
     "output_type": "error",
     "traceback": [
      "\u001b[0;31m---------------------------------------------------------------------------\u001b[0m",
      "\u001b[0;31mKeyboardInterrupt\u001b[0m                         Traceback (most recent call last)",
      "\u001b[0;32m<ipython-input-10-65b7a5594d89>\u001b[0m in \u001b[0;36m<module>\u001b[0;34m\u001b[0m\n\u001b[1;32m     31\u001b[0m         \u001b[0mtv\u001b[0m \u001b[0;34m=\u001b[0m \u001b[0mY\u001b[0m\u001b[0;34m[\u001b[0m\u001b[0mbatch_idx\u001b[0m\u001b[0;34m]\u001b[0m\u001b[0;34m.\u001b[0m\u001b[0mto\u001b[0m\u001b[0;34m(\u001b[0m\u001b[0mdevice\u001b[0m\u001b[0;34m)\u001b[0m\u001b[0;34m\u001b[0m\u001b[0;34m\u001b[0m\u001b[0m\n\u001b[1;32m     32\u001b[0m         \u001b[0moptimizer\u001b[0m\u001b[0;34m.\u001b[0m\u001b[0mzero_grad\u001b[0m\u001b[0;34m(\u001b[0m\u001b[0;34m)\u001b[0m\u001b[0;34m\u001b[0m\u001b[0;34m\u001b[0m\u001b[0m\n\u001b[0;32m---> 33\u001b[0;31m         \u001b[0mout\u001b[0m \u001b[0;34m=\u001b[0m \u001b[0mmodel\u001b[0m\u001b[0;34m(\u001b[0m\u001b[0miv\u001b[0m\u001b[0;34m)\u001b[0m\u001b[0;34m\u001b[0m\u001b[0;34m\u001b[0m\u001b[0m\n\u001b[0m\u001b[1;32m     34\u001b[0m         loss = loss_func(out[:, -1, :],\n\u001b[1;32m     35\u001b[0m                          torch.cuda.LongTensor([tv]))\n",
      "\u001b[0;32m~/bin/anaconda3/lib/python3.6/site-packages/torch/nn/modules/module.py\u001b[0m in \u001b[0;36m__call__\u001b[0;34m(self, *input, **kwargs)\u001b[0m\n\u001b[1;32m    530\u001b[0m             \u001b[0mresult\u001b[0m \u001b[0;34m=\u001b[0m \u001b[0mself\u001b[0m\u001b[0;34m.\u001b[0m\u001b[0m_slow_forward\u001b[0m\u001b[0;34m(\u001b[0m\u001b[0;34m*\u001b[0m\u001b[0minput\u001b[0m\u001b[0;34m,\u001b[0m \u001b[0;34m**\u001b[0m\u001b[0mkwargs\u001b[0m\u001b[0;34m)\u001b[0m\u001b[0;34m\u001b[0m\u001b[0;34m\u001b[0m\u001b[0m\n\u001b[1;32m    531\u001b[0m         \u001b[0;32melse\u001b[0m\u001b[0;34m:\u001b[0m\u001b[0;34m\u001b[0m\u001b[0;34m\u001b[0m\u001b[0m\n\u001b[0;32m--> 532\u001b[0;31m             \u001b[0mresult\u001b[0m \u001b[0;34m=\u001b[0m \u001b[0mself\u001b[0m\u001b[0;34m.\u001b[0m\u001b[0mforward\u001b[0m\u001b[0;34m(\u001b[0m\u001b[0;34m*\u001b[0m\u001b[0minput\u001b[0m\u001b[0;34m,\u001b[0m \u001b[0;34m**\u001b[0m\u001b[0mkwargs\u001b[0m\u001b[0;34m)\u001b[0m\u001b[0;34m\u001b[0m\u001b[0;34m\u001b[0m\u001b[0m\n\u001b[0m\u001b[1;32m    533\u001b[0m         \u001b[0;32mfor\u001b[0m \u001b[0mhook\u001b[0m \u001b[0;32min\u001b[0m \u001b[0mself\u001b[0m\u001b[0;34m.\u001b[0m\u001b[0m_forward_hooks\u001b[0m\u001b[0;34m.\u001b[0m\u001b[0mvalues\u001b[0m\u001b[0;34m(\u001b[0m\u001b[0;34m)\u001b[0m\u001b[0;34m:\u001b[0m\u001b[0;34m\u001b[0m\u001b[0;34m\u001b[0m\u001b[0m\n\u001b[1;32m    534\u001b[0m             \u001b[0mhook_result\u001b[0m \u001b[0;34m=\u001b[0m \u001b[0mhook\u001b[0m\u001b[0;34m(\u001b[0m\u001b[0mself\u001b[0m\u001b[0;34m,\u001b[0m \u001b[0minput\u001b[0m\u001b[0;34m,\u001b[0m \u001b[0mresult\u001b[0m\u001b[0;34m)\u001b[0m\u001b[0;34m\u001b[0m\u001b[0;34m\u001b[0m\u001b[0m\n",
      "\u001b[0;32m<ipython-input-9-d3fd035f8223>\u001b[0m in \u001b[0;36mforward\u001b[0;34m(self, inp)\u001b[0m\n\u001b[1;32m     16\u001b[0m         \u001b[0;31m#out = []\u001b[0m\u001b[0;34m\u001b[0m\u001b[0;34m\u001b[0m\u001b[0;34m\u001b[0m\u001b[0m\n\u001b[1;32m     17\u001b[0m         \u001b[0;32mfor\u001b[0m \u001b[0mi\u001b[0m \u001b[0;32min\u001b[0m \u001b[0mrange\u001b[0m\u001b[0;34m(\u001b[0m\u001b[0mlen\u001b[0m\u001b[0;34m(\u001b[0m\u001b[0mself\u001b[0m\u001b[0;34m.\u001b[0m\u001b[0msithcon_layers\u001b[0m\u001b[0;34m)\u001b[0m\u001b[0;34m)\u001b[0m\u001b[0;34m:\u001b[0m\u001b[0;34m\u001b[0m\u001b[0;34m\u001b[0m\u001b[0m\n\u001b[0;32m---> 18\u001b[0;31m             \u001b[0mx\u001b[0m \u001b[0;34m=\u001b[0m \u001b[0mself\u001b[0m\u001b[0;34m.\u001b[0m\u001b[0msithcon_layers\u001b[0m\u001b[0;34m[\u001b[0m\u001b[0mi\u001b[0m\u001b[0;34m]\u001b[0m\u001b[0;34m(\u001b[0m\u001b[0mx\u001b[0m\u001b[0;34m)\u001b[0m\u001b[0;34m\u001b[0m\u001b[0;34m\u001b[0m\u001b[0m\n\u001b[0m\u001b[1;32m     19\u001b[0m \u001b[0;34m\u001b[0m\u001b[0m\n\u001b[1;32m     20\u001b[0m             \u001b[0mx\u001b[0m \u001b[0;34m=\u001b[0m \u001b[0mself\u001b[0m\u001b[0;34m.\u001b[0m\u001b[0mtransform_linears\u001b[0m\u001b[0;34m[\u001b[0m\u001b[0mi\u001b[0m\u001b[0;34m]\u001b[0m\u001b[0;34m(\u001b[0m\u001b[0mx\u001b[0m\u001b[0;34m[\u001b[0m\u001b[0;34m:\u001b[0m\u001b[0;34m,\u001b[0m\u001b[0;36m0\u001b[0m\u001b[0;34m,\u001b[0m\u001b[0;34m:\u001b[0m\u001b[0;34m,\u001b[0m\u001b[0;34m:\u001b[0m\u001b[0;34m]\u001b[0m\u001b[0;34m.\u001b[0m\u001b[0mtranspose\u001b[0m\u001b[0;34m(\u001b[0m\u001b[0;36m1\u001b[0m\u001b[0;34m,\u001b[0m\u001b[0;36m2\u001b[0m\u001b[0;34m)\u001b[0m\u001b[0;34m)\u001b[0m\u001b[0;34m\u001b[0m\u001b[0;34m\u001b[0m\u001b[0m\n",
      "\u001b[0;32m~/bin/anaconda3/lib/python3.6/site-packages/torch/nn/modules/module.py\u001b[0m in \u001b[0;36m__call__\u001b[0;34m(self, *input, **kwargs)\u001b[0m\n\u001b[1;32m    530\u001b[0m             \u001b[0mresult\u001b[0m \u001b[0;34m=\u001b[0m \u001b[0mself\u001b[0m\u001b[0;34m.\u001b[0m\u001b[0m_slow_forward\u001b[0m\u001b[0;34m(\u001b[0m\u001b[0;34m*\u001b[0m\u001b[0minput\u001b[0m\u001b[0;34m,\u001b[0m \u001b[0;34m**\u001b[0m\u001b[0mkwargs\u001b[0m\u001b[0;34m)\u001b[0m\u001b[0;34m\u001b[0m\u001b[0;34m\u001b[0m\u001b[0m\n\u001b[1;32m    531\u001b[0m         \u001b[0;32melse\u001b[0m\u001b[0;34m:\u001b[0m\u001b[0;34m\u001b[0m\u001b[0;34m\u001b[0m\u001b[0m\n\u001b[0;32m--> 532\u001b[0;31m             \u001b[0mresult\u001b[0m \u001b[0;34m=\u001b[0m \u001b[0mself\u001b[0m\u001b[0;34m.\u001b[0m\u001b[0mforward\u001b[0m\u001b[0;34m(\u001b[0m\u001b[0;34m*\u001b[0m\u001b[0minput\u001b[0m\u001b[0;34m,\u001b[0m \u001b[0;34m**\u001b[0m\u001b[0mkwargs\u001b[0m\u001b[0;34m)\u001b[0m\u001b[0;34m\u001b[0m\u001b[0;34m\u001b[0m\u001b[0m\n\u001b[0m\u001b[1;32m    533\u001b[0m         \u001b[0;32mfor\u001b[0m \u001b[0mhook\u001b[0m \u001b[0;32min\u001b[0m \u001b[0mself\u001b[0m\u001b[0;34m.\u001b[0m\u001b[0m_forward_hooks\u001b[0m\u001b[0;34m.\u001b[0m\u001b[0mvalues\u001b[0m\u001b[0;34m(\u001b[0m\u001b[0;34m)\u001b[0m\u001b[0;34m:\u001b[0m\u001b[0;34m\u001b[0m\u001b[0;34m\u001b[0m\u001b[0m\n\u001b[1;32m    534\u001b[0m             \u001b[0mhook_result\u001b[0m \u001b[0;34m=\u001b[0m \u001b[0mhook\u001b[0m\u001b[0;34m(\u001b[0m\u001b[0mself\u001b[0m\u001b[0;34m,\u001b[0m \u001b[0minput\u001b[0m\u001b[0;34m,\u001b[0m \u001b[0mresult\u001b[0m\u001b[0;34m)\u001b[0m\u001b[0;34m\u001b[0m\u001b[0;34m\u001b[0m\u001b[0m\n",
      "\u001b[0;32m~/github/SITHCon/experiments/sithcon/sithcon.py\u001b[0m in \u001b[0;36mforward\u001b[0;34m(self, inp)\u001b[0m\n\u001b[1;32m     82\u001b[0m         \u001b[0mseq_size\u001b[0m \u001b[0;34m=\u001b[0m \u001b[0minp\u001b[0m\u001b[0;34m.\u001b[0m\u001b[0mshape\u001b[0m\u001b[0;34m[\u001b[0m\u001b[0;34m-\u001b[0m\u001b[0;36m1\u001b[0m\u001b[0;34m]\u001b[0m\u001b[0;34m\u001b[0m\u001b[0;34m\u001b[0m\u001b[0m\n\u001b[1;32m     83\u001b[0m \u001b[0;34m\u001b[0m\u001b[0m\n\u001b[0;32m---> 84\u001b[0;31m         \u001b[0minp\u001b[0m \u001b[0;34m=\u001b[0m \u001b[0mself\u001b[0m\u001b[0;34m.\u001b[0m\u001b[0msithcon\u001b[0m\u001b[0;34m(\u001b[0m\u001b[0minp\u001b[0m\u001b[0;34m)\u001b[0m\u001b[0;34m\u001b[0m\u001b[0;34m\u001b[0m\u001b[0m\n\u001b[0m\u001b[1;32m     85\u001b[0m         \u001b[0;31m# back to batches, sequences, features\u001b[0m\u001b[0;34m\u001b[0m\u001b[0;34m\u001b[0m\u001b[0;34m\u001b[0m\u001b[0m\n\u001b[1;32m     86\u001b[0m         \u001b[0minp\u001b[0m \u001b[0;34m=\u001b[0m \u001b[0minp\u001b[0m\u001b[0;34m.\u001b[0m\u001b[0mreshape\u001b[0m\u001b[0;34m(\u001b[0m\u001b[0mbatch_size\u001b[0m\u001b[0;34m,\u001b[0m \u001b[0mseq_size\u001b[0m\u001b[0;34m,\u001b[0m \u001b[0;34m-\u001b[0m\u001b[0;36m1\u001b[0m\u001b[0;34m)\u001b[0m\u001b[0;34m\u001b[0m\u001b[0;34m\u001b[0m\u001b[0m\n",
      "\u001b[0;32m~/bin/anaconda3/lib/python3.6/site-packages/torch/nn/modules/module.py\u001b[0m in \u001b[0;36m__call__\u001b[0;34m(self, *input, **kwargs)\u001b[0m\n\u001b[1;32m    530\u001b[0m             \u001b[0mresult\u001b[0m \u001b[0;34m=\u001b[0m \u001b[0mself\u001b[0m\u001b[0;34m.\u001b[0m\u001b[0m_slow_forward\u001b[0m\u001b[0;34m(\u001b[0m\u001b[0;34m*\u001b[0m\u001b[0minput\u001b[0m\u001b[0;34m,\u001b[0m \u001b[0;34m**\u001b[0m\u001b[0mkwargs\u001b[0m\u001b[0;34m)\u001b[0m\u001b[0;34m\u001b[0m\u001b[0;34m\u001b[0m\u001b[0m\n\u001b[1;32m    531\u001b[0m         \u001b[0;32melse\u001b[0m\u001b[0;34m:\u001b[0m\u001b[0;34m\u001b[0m\u001b[0;34m\u001b[0m\u001b[0m\n\u001b[0;32m--> 532\u001b[0;31m             \u001b[0mresult\u001b[0m \u001b[0;34m=\u001b[0m \u001b[0mself\u001b[0m\u001b[0;34m.\u001b[0m\u001b[0mforward\u001b[0m\u001b[0;34m(\u001b[0m\u001b[0;34m*\u001b[0m\u001b[0minput\u001b[0m\u001b[0;34m,\u001b[0m \u001b[0;34m**\u001b[0m\u001b[0mkwargs\u001b[0m\u001b[0;34m)\u001b[0m\u001b[0;34m\u001b[0m\u001b[0;34m\u001b[0m\u001b[0m\n\u001b[0m\u001b[1;32m    533\u001b[0m         \u001b[0;32mfor\u001b[0m \u001b[0mhook\u001b[0m \u001b[0;32min\u001b[0m \u001b[0mself\u001b[0m\u001b[0;34m.\u001b[0m\u001b[0m_forward_hooks\u001b[0m\u001b[0;34m.\u001b[0m\u001b[0mvalues\u001b[0m\u001b[0;34m(\u001b[0m\u001b[0;34m)\u001b[0m\u001b[0;34m:\u001b[0m\u001b[0;34m\u001b[0m\u001b[0;34m\u001b[0m\u001b[0m\n\u001b[1;32m    534\u001b[0m             \u001b[0mhook_result\u001b[0m \u001b[0;34m=\u001b[0m \u001b[0mhook\u001b[0m\u001b[0;34m(\u001b[0m\u001b[0mself\u001b[0m\u001b[0;34m,\u001b[0m \u001b[0minput\u001b[0m\u001b[0;34m,\u001b[0m \u001b[0mresult\u001b[0m\u001b[0;34m)\u001b[0m\u001b[0;34m\u001b[0m\u001b[0;34m\u001b[0m\u001b[0m\n",
      "\u001b[0;32m~/github/SITHCon/experiments/sithcon/sithcon.py\u001b[0m in \u001b[0;36mforward\u001b[0;34m(self, inp)\u001b[0m\n\u001b[1;32m     41\u001b[0m     \u001b[0;32mdef\u001b[0m \u001b[0mforward\u001b[0m\u001b[0;34m(\u001b[0m\u001b[0mself\u001b[0m\u001b[0;34m,\u001b[0m \u001b[0minp\u001b[0m\u001b[0;34m)\u001b[0m\u001b[0;34m:\u001b[0m\u001b[0;34m\u001b[0m\u001b[0;34m\u001b[0m\u001b[0m\n\u001b[1;32m     42\u001b[0m         \u001b[0;31m# Outputs as : [Batch, features, tau, sequence]\u001b[0m\u001b[0;34m\u001b[0m\u001b[0;34m\u001b[0m\u001b[0;34m\u001b[0m\u001b[0m\n\u001b[0;32m---> 43\u001b[0;31m         \u001b[0mx\u001b[0m \u001b[0;34m=\u001b[0m \u001b[0mself\u001b[0m\u001b[0;34m.\u001b[0m\u001b[0msith\u001b[0m\u001b[0;34m(\u001b[0m\u001b[0minp\u001b[0m\u001b[0;34m)\u001b[0m\u001b[0;34m\u001b[0m\u001b[0;34m\u001b[0m\u001b[0m\n\u001b[0m\u001b[1;32m     44\u001b[0m         \u001b[0;31m# Swap sequence and features\u001b[0m\u001b[0;34m\u001b[0m\u001b[0;34m\u001b[0m\u001b[0;34m\u001b[0m\u001b[0m\n\u001b[1;32m     45\u001b[0m         \u001b[0mx\u001b[0m \u001b[0;34m=\u001b[0m \u001b[0mx\u001b[0m\u001b[0;34m.\u001b[0m\u001b[0mtranspose\u001b[0m\u001b[0;34m(\u001b[0m\u001b[0;36m3\u001b[0m\u001b[0;34m,\u001b[0m\u001b[0;36m1\u001b[0m\u001b[0;34m)\u001b[0m\u001b[0;34m\u001b[0m\u001b[0;34m\u001b[0m\u001b[0m\n",
      "\u001b[0;32m~/bin/anaconda3/lib/python3.6/site-packages/torch/nn/modules/module.py\u001b[0m in \u001b[0;36m__call__\u001b[0;34m(self, *input, **kwargs)\u001b[0m\n\u001b[1;32m    530\u001b[0m             \u001b[0mresult\u001b[0m \u001b[0;34m=\u001b[0m \u001b[0mself\u001b[0m\u001b[0;34m.\u001b[0m\u001b[0m_slow_forward\u001b[0m\u001b[0;34m(\u001b[0m\u001b[0;34m*\u001b[0m\u001b[0minput\u001b[0m\u001b[0;34m,\u001b[0m \u001b[0;34m**\u001b[0m\u001b[0mkwargs\u001b[0m\u001b[0;34m)\u001b[0m\u001b[0;34m\u001b[0m\u001b[0;34m\u001b[0m\u001b[0m\n\u001b[1;32m    531\u001b[0m         \u001b[0;32melse\u001b[0m\u001b[0;34m:\u001b[0m\u001b[0;34m\u001b[0m\u001b[0;34m\u001b[0m\u001b[0m\n\u001b[0;32m--> 532\u001b[0;31m             \u001b[0mresult\u001b[0m \u001b[0;34m=\u001b[0m \u001b[0mself\u001b[0m\u001b[0;34m.\u001b[0m\u001b[0mforward\u001b[0m\u001b[0;34m(\u001b[0m\u001b[0;34m*\u001b[0m\u001b[0minput\u001b[0m\u001b[0;34m,\u001b[0m \u001b[0;34m**\u001b[0m\u001b[0mkwargs\u001b[0m\u001b[0;34m)\u001b[0m\u001b[0;34m\u001b[0m\u001b[0;34m\u001b[0m\u001b[0m\n\u001b[0m\u001b[1;32m    533\u001b[0m         \u001b[0;32mfor\u001b[0m \u001b[0mhook\u001b[0m \u001b[0;32min\u001b[0m \u001b[0mself\u001b[0m\u001b[0;34m.\u001b[0m\u001b[0m_forward_hooks\u001b[0m\u001b[0;34m.\u001b[0m\u001b[0mvalues\u001b[0m\u001b[0;34m(\u001b[0m\u001b[0;34m)\u001b[0m\u001b[0;34m:\u001b[0m\u001b[0;34m\u001b[0m\u001b[0;34m\u001b[0m\u001b[0m\n\u001b[1;32m    534\u001b[0m             \u001b[0mhook_result\u001b[0m \u001b[0;34m=\u001b[0m \u001b[0mhook\u001b[0m\u001b[0;34m(\u001b[0m\u001b[0mself\u001b[0m\u001b[0;34m,\u001b[0m \u001b[0minput\u001b[0m\u001b[0;34m,\u001b[0m \u001b[0mresult\u001b[0m\u001b[0;34m)\u001b[0m\u001b[0;34m\u001b[0m\u001b[0;34m\u001b[0m\u001b[0m\n",
      "\u001b[0;32m~/github/SITHCon/experiments/sithcon/isith.py\u001b[0m in \u001b[0;36mforward\u001b[0;34m(self, inp)\u001b[0m\n\u001b[1;32m     81\u001b[0m         \u001b[0;32massert\u001b[0m\u001b[0;34m(\u001b[0m\u001b[0mlen\u001b[0m\u001b[0;34m(\u001b[0m\u001b[0minp\u001b[0m\u001b[0;34m.\u001b[0m\u001b[0mshape\u001b[0m\u001b[0;34m)\u001b[0m \u001b[0;34m>=\u001b[0m \u001b[0;36m4\u001b[0m\u001b[0;34m)\u001b[0m\u001b[0;34m\u001b[0m\u001b[0;34m\u001b[0m\u001b[0m\n\u001b[1;32m     82\u001b[0m         out = torch.conv2d(inp, self.filters[:, :, :, -inp.shape[-1]:], \n\u001b[0;32m---> 83\u001b[0;31m                            padding=[0, self.filters[:, :, :, -inp.shape[-1]:].shape[-1]])\n\u001b[0m\u001b[1;32m     84\u001b[0m                            \u001b[0;31m#padding=[0, self.filters.shape[-1]])\u001b[0m\u001b[0;34m\u001b[0m\u001b[0;34m\u001b[0m\u001b[0;34m\u001b[0m\u001b[0m\n\u001b[1;32m     85\u001b[0m         \u001b[0;31m# note we're scaling the output by both dt and the k/(k+1)\u001b[0m\u001b[0;34m\u001b[0m\u001b[0;34m\u001b[0m\u001b[0;34m\u001b[0m\u001b[0m\n",
      "\u001b[0;31mKeyboardInterrupt\u001b[0m: "
     ]
    }
   ],
   "source": [
    "Trainscale = 10\n",
    "sp1 = dict(in_features=1, \n",
    "           tau_min=.1, tau_max=500.0, buff_max=1000,\n",
    "           dt=1, ntau=500, k=30, g=0.0, ttype=ttype, \n",
    "           channels=50, kernel_width=15, dilation=3,\n",
    "           dropout=None, batch_norm=None)\n",
    "layer_params = [sp1]\n",
    "\n",
    "model = SITHCon_Classifier(len(X), layer_params, act_func=nn.ReLU).cuda()\n",
    "model\n",
    "tot_weights = 0\n",
    "for p in model.parameters():\n",
    "    tot_weights += p.numel()\n",
    "print(\"Total Weights:\", tot_weights)\n",
    "print(model)\n",
    "loss_func = torch.nn.CrossEntropyLoss()\n",
    "optimizer = torch.optim.Adam(model.parameters())\n",
    "epochs = 5000\n",
    "device='cuda'\n",
    "progress_bar = tqdm(range(int(epochs)), bar_format='{l_bar}{bar:5}{r_bar}{bar:-5b}')\n",
    "\n",
    "for epoch_idx in progress_bar:\n",
    "    perfs = []\n",
    "    losses = []\n",
    "    model.train()\n",
    "    for batch_idx, iv in enumerate(X):\n",
    "        iv = iv.unsqueeze(0).unsqueeze(0).unsqueeze(0).to(device)\n",
    "        iv = iv.unsqueeze(-1)\n",
    "        iv = iv.repeat(1,1,1,1,Trainscale)\n",
    "        iv = iv.reshape(1,1,1,-1)\n",
    "        tv = Y[batch_idx].to(device)\n",
    "        optimizer.zero_grad()\n",
    "        out = model(iv)\n",
    "        loss = loss_func(out[:, -1, :],\n",
    "                         torch.cuda.LongTensor([tv]))\n",
    "        loss.backward()\n",
    "        optimizer.step()\n",
    "        \n",
    "        perfs.append((torch.argmax(out[:, -1, :], dim=-1) == \n",
    "                      tv).sum().item())\n",
    "        #perfs = perfs[int(-loss_buffer_size/batch_size):]\n",
    "        losses.append(loss.detach().cpu().numpy())\n",
    "        #losses = losses[int(-loss_buffer_size/batch_size):]\n",
    "        \n",
    "        \n",
    "        s = \"{}:{:2} Loss: {:.4f}, Perf: {:.4f}\"\n",
    "        format_list = [epoch_idx, batch_idx, np.mean(losses), \n",
    "                       np.sum(perfs)/((len(perfs)))]\n",
    "        s = s.format(*format_list)\n",
    "        progress_bar.set_description(s)"
   ]
  },
  {
   "cell_type": "code",
   "execution_count": 15,
   "metadata": {},
   "outputs": [
    {
     "name": "stdout",
     "output_type": "stream",
     "text": [
      "1 0.7906976744186046\n",
      "2 0.9069767441860465\n",
      "3 0.9302325581395349\n",
      "4 0.9302325581395349\n",
      "5 0.9302325581395349\n",
      "6 0.9302325581395349\n",
      "7 0.9302325581395349\n",
      "8 0.9069767441860465\n",
      "9 0.9069767441860465\n",
      "10 0.9767441860465116\n",
      "11 0.9069767441860465\n",
      "12 0.9069767441860465\n",
      "13 0.8372093023255814\n",
      "14 0.7209302325581395\n",
      "15 0.7209302325581395\n",
      "16 0.627906976744186\n",
      "17 0.6046511627906976\n",
      "18 0.5348837209302325\n",
      "19 0.4418604651162791\n"
     ]
    }
   ],
   "source": [
    "model.eval()\n",
    "evald = []\n",
    "for nr in range(1,20):\n",
    "    perfs = []\n",
    "    for batch_idx, iv in enumerate(X):\n",
    "        iv = iv.unsqueeze(0).unsqueeze(0).unsqueeze(0).to(device)\n",
    "        iv = iv.unsqueeze(-1)\n",
    "        iv = iv.repeat(1,1,1,1,nr)\n",
    "        iv = iv.reshape(1,1,1,-1)\n",
    "        tv = Y[batch_idx].to(device)\n",
    "        out = model(iv)\n",
    "        loss = loss_func(out[:, -1, :],\n",
    "                         torch.cuda.LongTensor([tv]))\n",
    "\n",
    "\n",
    "        perfs.append((torch.argmax(out[:, -1, :], dim=-1) == \n",
    "                      tv).sum().item())\n",
    "    print(nr, sum(perfs)/len(perfs))\n",
    "    evald.append([nr, sum(perfs)/len(perfs)])"
   ]
  },
  {
   "cell_type": "code",
   "execution_count": 16,
   "metadata": {},
   "outputs": [
    {
     "data": {
      "image/png": "[encoded data removed]",
      "text/plain": [
       "<Figure size 720x360 with 1 Axes>"
      ]
     },
     "metadata": {
      "needs_background": "light"
     },
     "output_type": "display_data"
    }
   ],
   "source": [
    "fig=plt.figure(figsize=(10,5))\n",
    "plt.plot([e[0] for e in evald],\n",
    "         [e[1] for e in evald],\n",
    "         marker='o');\n",
    "\n",
    "plt.axvline(Trainscale, color='red', linestyle='--')\n",
    "plt.axhline(0, color='black')\n",
    "plt.ylim(-.05, 1.05)\n",
    "plt.grid()"
   ]
  },
  {
   "cell_type": "markdown",
   "metadata": {},
   "source": [
    "# Three Layers"
   ]
  },
  {
   "cell_type": "code",
   "execution_count": null,
   "metadata": {
    "ExecuteTime": {
     "end_time": "2021-03-22T14:35:49.349641Z",
     "start_time": "2021-03-22T14:28:35.114202Z"
    }
   },
   "outputs": [],
   "source": [
    "\n",
    "sp1 = dict(in_features=1, \n",
    "           tau_min=.1, tau_max=1000.0, buff_max=2000,\n",
    "           dt=1, ntau=500, k=30, g=0.0, ttype=ttype, \n",
    "           channels=35, kernel_width=15, dilation=3,\n",
    "           dropout=None, batch_norm=None)\n",
    "sp2 = dict(in_features=sp1['channels'], \n",
    "           tau_min=.1, tau_max=1000.0, buff_max=2000,\n",
    "           dt=1, ntau=500, k=30, g=0.0, ttype=ttype, \n",
    "           channels=35, kernel_width=15, dilation=3, \n",
    "           dropout=None, batch_norm=None)\n",
    "sp3 = dict(in_features=sp2['channels'], \n",
    "           tau_min=.1, tau_max=1000.0, buff_max=2000,\n",
    "           dt=1, ntau=500, k=30, g=0.0, ttype=ttype, \n",
    "           channels=35, kernel_width=15, dilation=3, \n",
    "           dropout=None, batch_norm=None)\n",
    "layer_params = [sp1, sp2, sp3]\n",
    "\n",
    "\n",
    "model = SITHCon_Classifier(len(X), layer_params, act_func=nn.ReLU).cuda()\n",
    "model\n",
    "tot_weights = 0\n",
    "for p in model.parameters():\n",
    "    tot_weights += p.numel()\n",
    "print(\"Total Weights:\", tot_weights)\n",
    "print(model)"
   ]
  },
  {
   "cell_type": "code",
   "execution_count": 29,
   "metadata": {
    "ExecuteTime": {
     "end_time": "2021-03-30T16:15:35.146441Z",
     "start_time": "2021-03-30T16:15:35.015932Z"
    }
   },
   "outputs": [
    {
     "name": "stdout",
     "output_type": "stream",
     "text": [
      "Total Weights: 15148\n",
      "SITHCon_Classifier(\n",
      "  (transform_linears): ModuleList(\n",
      "    (0): Linear(in_features=15, out_features=15, bias=True)\n",
      "    (1): Linear(in_features=225, out_features=15, bias=True)\n",
      "    (2): Linear(in_features=225, out_features=15, bias=True)\n",
      "  )\n",
      "  (sithcon_layers): ModuleList(\n",
      "    (0): SITHCon_Layer(\n",
      "      (sithcon): _SITHCon_Core(\n",
      "        (sith): iSITH(ntau=500, tau_min=0.1, tau_max=1000.0, buff_max=2000, dt=1, k=30, g=0.0)\n",
      "        (conv): Conv1d(1, 15, kernel_size=(15,), stride=(1,), dilation=(3,), bias=False)\n",
      "        (maxp): MaxPool1d(kernel_size=458, stride=458, padding=0, dilation=1, ceil_mode=False)\n",
      "      )\n",
      "      (act_func): ReLU()\n",
      "    )\n",
      "    (1): SITHCon_Layer(\n",
      "      (sithcon): _SITHCon_Core(\n",
      "        (sith): iSITH(ntau=500, tau_min=0.1, tau_max=1000.0, buff_max=10000, dt=1, k=30, g=0.0)\n",
      "        (conv): Conv1d(15, 225, kernel_size=(15,), stride=(1,), dilation=(3,), groups=15, bias=False)\n",
      "        (maxp): MaxPool1d(kernel_size=458, stride=458, padding=0, dilation=1, ceil_mode=False)\n",
      "      )\n",
      "      (act_func): ReLU()\n",
      "    )\n",
      "    (2): SITHCon_Layer(\n",
      "      (sithcon): _SITHCon_Core(\n",
      "        (sith): iSITH(ntau=500, tau_min=0.1, tau_max=1000.0, buff_max=2000, dt=1, k=30, g=0.0)\n",
      "        (conv): Conv1d(15, 225, kernel_size=(15,), stride=(1,), dilation=(3,), groups=15, bias=False)\n",
      "        (maxp): MaxPool1d(kernel_size=458, stride=458, padding=0, dilation=1, ceil_mode=False)\n",
      "      )\n",
      "      (act_func): ReLU()\n",
      "    )\n",
      "  )\n",
      "  (to_out): Linear(in_features=15, out_features=43, bias=True)\n",
      ")\n"
     ]
    }
   ],
   "source": [
    "\n",
    "sp1 = dict(in_features=1, \n",
    "           tau_min=.1, tau_max=1000.0, buff_max=2000,\n",
    "           dt=1, ntau=500, k=30, g=0.0, ttype=ttype, \n",
    "           channels=15, kernel_width=15, dilation=3,\n",
    "           groups=1,\n",
    "           dropout=None, batch_norm=None)\n",
    "sp2 = dict(in_features=sp1['channels'], \n",
    "           tau_min=.1, tau_max=1000.0, buff_max=10000,\n",
    "           dt=1, ntau=500, k=30, g=0.0, ttype=ttype, \n",
    "           channels=15, kernel_width=15, dilation=3,\n",
    "           groups=sp1['channels'],\n",
    "           dropout=None, batch_norm=None)\n",
    "sp3 = dict(in_features=sp2['channels'], \n",
    "           tau_min=.1, tau_max=1000.0, buff_max=2000,\n",
    "           dt=1, ntau=500, k=30, g=0.0, ttype=ttype, \n",
    "           channels=15, kernel_width=15, dilation=3, \n",
    "           groups=sp2['channels'],\n",
    "           dropout=None, batch_norm=None)\n",
    "layer_params = [sp1, sp2, sp3]\n",
    "\n",
    "model = SITHCon_Classifier(len(X), layer_params, act_func=nn.ReLU).cuda()\n",
    "model\n",
    "tot_weights = 0\n",
    "for p in model.parameters():\n",
    "    tot_weights += p.numel()\n",
    "print(\"Total Weights:\", tot_weights)\n",
    "print(model)"
   ]
  },
  {
   "cell_type": "code",
   "execution_count": 32,
   "metadata": {
    "ExecuteTime": {
     "end_time": "2021-03-30T16:45:13.487759Z",
     "start_time": "2021-03-30T16:22:55.197567Z"
    }
   },
   "outputs": [
    {
     "data": {
      "application/vnd.jupyter.widget-view+json": {
       "model_id": "0992c00e1da24969bb46ac79f0267ae5",
       "version_major": 2,
       "version_minor": 0
      },
      "text/plain": [
       "HBox(children=(FloatProgress(value=0.0, max=5000.0), HTML(value='')))"
      ]
     },
     "metadata": {},
     "output_type": "display_data"
    },
    {
     "name": "stdout",
     "output_type": "stream",
     "text": [
      "\n"
     ]
    },
    {
     "ename": "KeyboardInterrupt",
     "evalue": "",
     "output_type": "error",
     "traceback": [
      "\u001b[0;31m---------------------------------------------------------------------------\u001b[0m",
      "\u001b[0;31mKeyboardInterrupt\u001b[0m                         Traceback (most recent call last)",
      "\u001b[0;32m<ipython-input-32-a0a25feafe31>\u001b[0m in \u001b[0;36m<module>\u001b[0;34m\u001b[0m\n\u001b[1;32m     19\u001b[0m         \u001b[0mout\u001b[0m \u001b[0;34m=\u001b[0m \u001b[0mmodel\u001b[0m\u001b[0;34m(\u001b[0m\u001b[0miv\u001b[0m\u001b[0;34m)\u001b[0m\u001b[0;34m\u001b[0m\u001b[0;34m\u001b[0m\u001b[0m\n\u001b[1;32m     20\u001b[0m         loss = loss_func(out[:, -1, :],\n\u001b[0;32m---> 21\u001b[0;31m                          torch.cuda.LongTensor([tv]))\n\u001b[0m\u001b[1;32m     22\u001b[0m         \u001b[0mloss\u001b[0m\u001b[0;34m.\u001b[0m\u001b[0mbackward\u001b[0m\u001b[0;34m(\u001b[0m\u001b[0;34m)\u001b[0m\u001b[0;34m\u001b[0m\u001b[0;34m\u001b[0m\u001b[0m\n\u001b[1;32m     23\u001b[0m         \u001b[0moptimizer\u001b[0m\u001b[0;34m.\u001b[0m\u001b[0mstep\u001b[0m\u001b[0;34m(\u001b[0m\u001b[0;34m)\u001b[0m\u001b[0;34m\u001b[0m\u001b[0;34m\u001b[0m\u001b[0m\n",
      "\u001b[0;31mKeyboardInterrupt\u001b[0m: "
     ]
    }
   ],
   "source": [
    "loss_func = torch.nn.CrossEntropyLoss()\n",
    "optimizer = torch.optim.Adam(model.parameters(), lr=.001)\n",
    "epochs = 5000\n",
    "Trainscale = 10\n",
    "device='cuda'\n",
    "progress_bar = tqdm(range(int(epochs)), bar_format='{l_bar}{bar:5}{r_bar}{bar:-5b}')\n",
    "\n",
    "for epoch_idx in progress_bar:\n",
    "    perfs = []\n",
    "    losses = []\n",
    "    model.train()\n",
    "    for batch_idx, iv in enumerate(X):\n",
    "        iv = iv.unsqueeze(0).unsqueeze(0).unsqueeze(0).to(device)\n",
    "        iv = iv.unsqueeze(-1)\n",
    "        iv = iv.repeat(1,1,1,1,Trainscale)\n",
    "        iv = iv.reshape(1,1,1,-1)\n",
    "        tv = Y[batch_idx].to(device)\n",
    "        optimizer.zero_grad()\n",
    "        out = model(iv)\n",
    "        loss = loss_func(out[:, -1, :],\n",
    "                         torch.cuda.LongTensor([tv]))\n",
    "        loss.backward()\n",
    "        optimizer.step()\n",
    "        \n",
    "        perfs.append((torch.argmax(out[:, -1, :], dim=-1) == \n",
    "                      tv).sum().item())\n",
    "        #perfs = perfs[int(-loss_buffer_size/batch_size):]\n",
    "        losses.append(loss.detach().cpu().numpy())\n",
    "        #losses = losses[int(-loss_buffer_size/batch_size):]\n",
    "        \n",
    "        \n",
    "        s = \"{}:{:2} Loss: {:.4f}, Perf: {:.4f}\"\n",
    "        format_list = [epoch_idx, batch_idx, np.mean(losses), \n",
    "                       np.sum(perfs)/((len(perfs)))]\n",
    "        s = s.format(*format_list)\n",
    "        progress_bar.set_description(s)"
   ]
  },
  {
   "cell_type": "code",
   "execution_count": 33,
   "metadata": {
    "ExecuteTime": {
     "end_time": "2021-03-30T16:45:31.436866Z",
     "start_time": "2021-03-30T16:45:15.280026Z"
    }
   },
   "outputs": [
    {
     "name": "stdout",
     "output_type": "stream",
     "text": [
      "1 0.023255813953488372\n",
      "2 0.06976744186046512\n",
      "5 0.6976744186046512\n",
      "6 0.9767441860465116\n",
      "7 0.9767441860465116\n",
      "8 1.0\n",
      "9 1.0\n",
      "10 1.0\n",
      "11 1.0\n",
      "12 1.0\n",
      "13 1.0\n",
      "14 1.0\n",
      "15 1.0\n",
      "16 0.9767441860465116\n",
      "17 0.9767441860465116\n",
      "18 0.9534883720930233\n",
      "19 0.9302325581395349\n",
      "20 0.9069767441860465\n",
      "30 0.7674418604651163\n",
      "40 0.6744186046511628\n"
     ]
    }
   ],
   "source": [
    "model.eval()\n",
    "evald = []\n",
    "evaldDict = {'test_perf':[],\n",
    "             'rate':[]}\n",
    "for nr in [1,2,5,6,7,8,9,10,11,12,13,14,15,16,17,18,19,20,30,40]:\n",
    "#for nr in range(1,40,):\n",
    "    perfs = []\n",
    "    for batch_idx, iv in enumerate(X):\n",
    "        iv = iv.unsqueeze(0).unsqueeze(0).unsqueeze(0).to(device)\n",
    "        iv = iv.unsqueeze(-1)\n",
    "        iv = iv.repeat(1,1,1,1,nr)\n",
    "        iv = iv.reshape(1,1,1,-1)\n",
    "        tv = Y[batch_idx].to(device)\n",
    "        out = model(iv)\n",
    "        loss = loss_func(out[:, -1, :],\n",
    "                         torch.cuda.LongTensor([tv]))\n",
    "\n",
    "\n",
    "        perfs.append((torch.argmax(out[:, -1, :], dim=-1) == \n",
    "                      tv).sum().item())\n",
    "    evaldDict['test_perf'].append(sum(perfs)/len(perfs))\n",
    "    evaldDict['rate'].append(nr)\n",
    "    print(nr, sum(perfs)/len(perfs))\n",
    "    evald.append([nr, sum(perfs)/(len(perfs)*1.0)])"
   ]
  },
  {
   "cell_type": "code",
   "execution_count": 21,
   "metadata": {
    "ExecuteTime": {
     "end_time": "2021-03-23T13:46:06.090941Z",
     "start_time": "2021-03-23T13:46:06.084337Z"
    }
   },
   "outputs": [],
   "source": [
    "import pandas as pd\n",
    "dat = pd.DataFrame(evaldDict)\n",
    "dat.to_csv(join('perf','SITHCon_morse_perf.csv'))"
   ]
  },
  {
   "cell_type": "code",
   "execution_count": 22,
   "metadata": {
    "ExecuteTime": {
     "end_time": "2021-03-23T13:46:06.405723Z",
     "start_time": "2021-03-23T13:46:06.379915Z"
    }
   },
   "outputs": [
    {
     "name": "stdout",
     "output_type": "stream",
     "text": [
      "    Unnamed: 0  test_perf  rate\n",
      "0            0   0.186047     1\n",
      "1            1   0.627907     2\n",
      "2            2   1.000000     5\n",
      "3            3   1.000000     6\n",
      "4            4   1.000000     7\n",
      "5            5   1.000000     8\n",
      "6            6   1.000000     9\n",
      "7            7   1.000000    10\n",
      "8            8   1.000000    11\n",
      "9            9   1.000000    12\n",
      "10          10   1.000000    13\n",
      "11          11   1.000000    14\n",
      "12          12   1.000000    15\n",
      "13          13   1.000000    16\n",
      "14          14   1.000000    17\n",
      "15          15   1.000000    18\n",
      "16          16   1.000000    19\n",
      "17          17   1.000000    20\n",
      "18          18   1.000000    30\n",
      "19          19   0.790698    40\n"
     ]
    },
    {
     "data": {
      "text/html": [
       "<div>\n",
       "<style scoped>\n",
       "    .dataframe tbody tr th:only-of-type {\n",
       "        vertical-align: middle;\n",
       "    }\n",
       "\n",
       "    .dataframe tbody tr th {\n",
       "        vertical-align: top;\n",
       "    }\n",
       "\n",
       "    .dataframe thead th {\n",
       "        text-align: right;\n",
       "    }\n",
       "</style>\n",
       "<table border=\"1\" class=\"dataframe\">\n",
       "  <thead>\n",
       "    <tr style=\"text-align: right;\">\n",
       "      <th></th>\n",
       "      <th>Unnamed: 0</th>\n",
       "      <th>test_perf</th>\n",
       "      <th>rate</th>\n",
       "    </tr>\n",
       "  </thead>\n",
       "  <tbody>\n",
       "    <tr>\n",
       "      <th>0</th>\n",
       "      <td>0</td>\n",
       "      <td>0.000000</td>\n",
       "      <td>1</td>\n",
       "    </tr>\n",
       "    <tr>\n",
       "      <th>1</th>\n",
       "      <td>1</td>\n",
       "      <td>0.023256</td>\n",
       "      <td>2</td>\n",
       "    </tr>\n",
       "    <tr>\n",
       "      <th>2</th>\n",
       "      <td>2</td>\n",
       "      <td>0.023256</td>\n",
       "      <td>5</td>\n",
       "    </tr>\n",
       "    <tr>\n",
       "      <th>3</th>\n",
       "      <td>3</td>\n",
       "      <td>0.023256</td>\n",
       "      <td>6</td>\n",
       "    </tr>\n",
       "    <tr>\n",
       "      <th>4</th>\n",
       "      <td>4</td>\n",
       "      <td>0.046512</td>\n",
       "      <td>7</td>\n",
       "    </tr>\n",
       "    <tr>\n",
       "      <th>5</th>\n",
       "      <td>5</td>\n",
       "      <td>0.093023</td>\n",
       "      <td>8</td>\n",
       "    </tr>\n",
       "    <tr>\n",
       "      <th>6</th>\n",
       "      <td>6</td>\n",
       "      <td>0.534884</td>\n",
       "      <td>9</td>\n",
       "    </tr>\n",
       "    <tr>\n",
       "      <th>7</th>\n",
       "      <td>7</td>\n",
       "      <td>1.000000</td>\n",
       "      <td>10</td>\n",
       "    </tr>\n",
       "    <tr>\n",
       "      <th>8</th>\n",
       "      <td>8</td>\n",
       "      <td>0.465116</td>\n",
       "      <td>11</td>\n",
       "    </tr>\n",
       "    <tr>\n",
       "      <th>9</th>\n",
       "      <td>9</td>\n",
       "      <td>0.093023</td>\n",
       "      <td>12</td>\n",
       "    </tr>\n",
       "    <tr>\n",
       "      <th>10</th>\n",
       "      <td>10</td>\n",
       "      <td>0.069767</td>\n",
       "      <td>13</td>\n",
       "    </tr>\n",
       "    <tr>\n",
       "      <th>11</th>\n",
       "      <td>11</td>\n",
       "      <td>0.023256</td>\n",
       "      <td>14</td>\n",
       "    </tr>\n",
       "    <tr>\n",
       "      <th>12</th>\n",
       "      <td>12</td>\n",
       "      <td>0.023256</td>\n",
       "      <td>15</td>\n",
       "    </tr>\n",
       "    <tr>\n",
       "      <th>13</th>\n",
       "      <td>13</td>\n",
       "      <td>0.023256</td>\n",
       "      <td>16</td>\n",
       "    </tr>\n",
       "    <tr>\n",
       "      <th>14</th>\n",
       "      <td>14</td>\n",
       "      <td>0.023256</td>\n",
       "      <td>17</td>\n",
       "    </tr>\n",
       "    <tr>\n",
       "      <th>15</th>\n",
       "      <td>15</td>\n",
       "      <td>0.023256</td>\n",
       "      <td>18</td>\n",
       "    </tr>\n",
       "    <tr>\n",
       "      <th>16</th>\n",
       "      <td>16</td>\n",
       "      <td>0.023256</td>\n",
       "      <td>19</td>\n",
       "    </tr>\n",
       "    <tr>\n",
       "      <th>17</th>\n",
       "      <td>17</td>\n",
       "      <td>0.046512</td>\n",
       "      <td>20</td>\n",
       "    </tr>\n",
       "    <tr>\n",
       "      <th>18</th>\n",
       "      <td>18</td>\n",
       "      <td>0.023256</td>\n",
       "      <td>30</td>\n",
       "    </tr>\n",
       "    <tr>\n",
       "      <th>19</th>\n",
       "      <td>19</td>\n",
       "      <td>0.023256</td>\n",
       "      <td>40</td>\n",
       "    </tr>\n",
       "  </tbody>\n",
       "</table>\n",
       "</div>"
      ],
      "text/plain": [
       "    Unnamed: 0  test_perf  rate\n",
       "0            0   0.000000     1\n",
       "1            1   0.023256     2\n",
       "2            2   0.023256     5\n",
       "3            3   0.023256     6\n",
       "4            4   0.046512     7\n",
       "5            5   0.093023     8\n",
       "6            6   0.534884     9\n",
       "7            7   1.000000    10\n",
       "8            8   0.465116    11\n",
       "9            9   0.093023    12\n",
       "10          10   0.069767    13\n",
       "11          11   0.023256    14\n",
       "12          12   0.023256    15\n",
       "13          13   0.023256    16\n",
       "14          14   0.023256    17\n",
       "15          15   0.023256    18\n",
       "16          16   0.023256    19\n",
       "17          17   0.046512    20\n",
       "18          18   0.023256    30\n",
       "19          19   0.023256    40"
      ]
     },
     "execution_count": 22,
     "metadata": {},
     "output_type": "execute_result"
    }
   ],
   "source": [
    "dat1 = pd.read_csv(join('perf','SITHCon_morse_perf.csv'))\n",
    "print(dat1)\n",
    "dat2 = pd.read_csv(join('perf','DeepSITH_morse_perf.csv'))\n",
    "dat2"
   ]
  },
  {
   "cell_type": "code",
   "execution_count": 26,
   "metadata": {
    "ExecuteTime": {
     "end_time": "2021-03-23T13:47:02.003642Z",
     "start_time": "2021-03-23T13:47:01.683530Z"
    },
    "scrolled": true
   },
   "outputs": [
    {
     "data": {
      "image/png": "[encoded data removed]",
      "text/plain": [
       "<Figure size 2160x1080 with 1 Axes>"
      ]
     },
     "metadata": {
      "needs_background": "light"
     },
     "output_type": "display_data"
    }
   ],
   "source": [
    "window_size = 20\n",
    "lw=5\n",
    "ms = 15\n",
    "with sn.plotting_context(\"notebook\", font_scale=3):\n",
    "    fig=plt.figure(figsize=(30,15))\n",
    "    Trainscale = 10\n",
    "    plt.plot(dat1.rate/Trainscale, dat1.test_perf, marker='o',\n",
    "            linewidth=lw, ms=ms)\n",
    "    plt.plot(dat2.rate/Trainscale, dat2.test_perf, marker='o',\n",
    "            linewidth=lw, ms=ms)\n",
    "    plt.axvline(Trainscale/Trainscale, color='red', linestyle='--',\n",
    "            linewidth=lw, ms=ms)\n",
    "    plt.axhline(0, color='black',\n",
    "            linewidth=lw, ms=ms)\n",
    "    plt.ylim(-.05, 1.05)\n",
    "    #plt.xscale('log')\n",
    "    plt.grid()\n",
    "    plt.ylabel('Accuracy')\n",
    "    plt.xlabel('Testing Scale')\n",
    "    plt.legend(['SITHCon', 'DeepSITH', 'Training Scale'])\n",
    "plt.savefig(join('figs', 'perf3layers'), dpi=100)"
   ]
  },
  {
   "cell_type": "code",
   "execution_count": null,
   "metadata": {},
   "outputs": [],
   "source": []
  },
  {
   "cell_type": "code",
   "execution_count": 30,
   "metadata": {},
   "outputs": [],
   "source": [
    "import scipy.optimize as opt\n",
    "from deepsith import iSITH\n",
    "def min_fun(x, *args):\n",
    "    ntau = args[2]\n",
    "    k = int(x[0])\n",
    "    if k < 4 or k>125:\n",
    "        return np.inf\n",
    "    tau_min = args[0]\n",
    "    tau_max = args[1]    \n",
    "    ev = iSITH(tau_min=tau_min, tau_max=tau_max, buff_max=tau_max*5, k=k, ntau=ntau, dt=1, g=1.0)    \n",
    "    std_0 = ev.filters[:, 0, 0, :].detach().cpu().T.numpy()[::-1].sum(1)[int(tau_min):int(tau_max)].std()\n",
    "    std_1 = ev.filters[:, 0, 0, :].detach().cpu().T.numpy()[::-1, ::2].sum(1)[int(tau_min):int(tau_max)].std()    \n",
    "    to_min = std_0/std_1\n",
    "    return to_min"
   ]
  },
  {
   "cell_type": "code",
   "execution_count": null,
   "metadata": {},
   "outputs": [],
   "source": [
    "ntau = 250\n",
    "k_0 = 20\n",
    "tau_min = .1\n",
    "tau_max = 1000.\n",
    "res = opt.minimize(min_fun, [k_0], args=(tau_min, tau_max, ntau), \n",
    "                   #method='Nelder-Mead',\n",
    "                   method='Powell',\n",
    "                   #method='L-BFGS-B',\n",
    "                   #method='BFGS',\n",
    "                   #method='CG',\n",
    "                   #method='TNC',\n",
    "                   bounds=[(4, 125)]\n",
    "                  )\n",
    "print(res)\n",
    "\n",
    "k = int(res.x)\n",
    "fig = plt.figure(figsize=(12,8))\n",
    "\n",
    "print('ntau:', ntau, 'k:', k)"
   ]
  },
  {
   "cell_type": "code",
   "execution_count": 40,
   "metadata": {},
   "outputs": [
    {
     "data": {
      "text/plain": [
       "(-5.0, 3000.0)"
      ]
     },
     "execution_count": 40,
     "metadata": {},
     "output_type": "execute_result"
    },
    {
     "data": {
      "image/png": "[encoded data removed]",
      "text/plain": [
       "<Figure size 432x288 with 1 Axes>"
      ]
     },
     "metadata": {
      "needs_background": "light"
     },
     "output_type": "display_data"
    }
   ],
   "source": [
    "ev = iSITH(tau_min=tau_min, tau_max=tau_max, buff_max=tau_max*3, \n",
    "           k=30, ntau=ntau, dt=1.0, g=1.0)\n",
    "#plt.plot(ev.filters[:, 0, 0, :].detach().cpu().T.numpy()[::-1, ::2].sum(1),\n",
    "#        linewidth=8, color='grey');\n",
    "#plt.plot(ev.filters[:, 0, 0, :].detach().cpu().T.numpy()[::-1].sum(1),\n",
    "#        linewidth=8, color='black');\n",
    "plt.plot(ev.filters[:, 0, 0, :].detach().cpu().T.numpy()[::-1],\n",
    "       );\n",
    "#plt.ylim(-.05, 2.1)\n",
    "plt.xlim(-5, 3*tau_max)\n",
    "#plt.legend([\"Total Sum\", \"Alternating Sum\"])"
   ]
  },
  {
   "cell_type": "code",
   "execution_count": null,
   "metadata": {},
   "outputs": [],
   "source": []
  }
 ],
 "metadata": {
  "kernelspec": {
   "display_name": "Python 3",
   "language": "python",
   "name": "python3"
  },
  "language_info": {
   "codemirror_mode": {
    "name": "ipython",
    "version": 3
   },
   "file_extension": ".py",
   "mimetype": "text/x-python",
   "name": "python",
   "nbconvert_exporter": "python",
   "pygments_lexer": "ipython3",
   "version": "3.6.10"
  },
  "toc": {
   "nav_menu": {},
   "number_sections": true,
   "sideBar": true,
   "skip_h1_title": false,
   "title_cell": "Table of Contents",
   "title_sidebar": "Contents",
   "toc_cell": false,
   "toc_position": {},
   "toc_section_display": true,
   "toc_window_display": false
  }
 },
 "nbformat": 4,
 "nbformat_minor": 4
}
