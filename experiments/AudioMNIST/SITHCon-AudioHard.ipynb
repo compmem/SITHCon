{
 "cells": [
  {
   "cell_type": "code",
   "execution_count": 1,
   "metadata": {
    "ExecuteTime": {
     "end_time": "2021-05-04T01:43:18.160524Z",
     "start_time": "2021-05-04T01:43:17.920497Z"
    }
   },
   "outputs": [],
   "source": [
    "%matplotlib inline"
   ]
  },
  {
   "cell_type": "code",
   "execution_count": 2,
   "metadata": {
    "ExecuteTime": {
     "end_time": "2021-05-04T01:43:18.786205Z",
     "start_time": "2021-05-04T01:43:18.161571Z"
    }
   },
   "outputs": [
    {
     "name": "stdout",
     "output_type": "stream",
     "text": [
      "<class 'torch.cuda.FloatTensor'>\n"
     ]
    }
   ],
   "source": [
    "import matplotlib.pyplot as plt\n",
    "import seaborn as sn\n",
    "sn.set_context(\"poster\")\n",
    "\n",
    "import torch\n",
    "from torch import nn as nn\n",
    "ttype = torch.cuda.FloatTensor if torch.cuda.is_available() else torch.FloatTensor\n",
    "ctype = torch.cuda.LongTensor if torch.cuda.is_available() else torch.LongTensor\n",
    "print(ttype)\n",
    "import torch.nn.functional as F\n",
    "from matplotlib import gridspec\n",
    "from sithcon import SITHCon_Layer, _SITHCon_Core, iSITH\n",
    "\n",
    "from tqdm.notebook import tqdm\n",
    "\n",
    "import itertools\n",
    "from csv import DictWriter\n",
    "import os \n",
    "from os.path import join\n",
    "import glob\n",
    "\n",
    "import numpy as np\n",
    "import pandas as pd\n",
    "import pickle\n",
    "from math import factorial\n",
    "import random"
   ]
  },
  {
   "cell_type": "code",
   "execution_count": 3,
   "metadata": {
    "ExecuteTime": {
     "end_time": "2021-05-03T13:38:26.578819Z",
     "start_time": "2021-05-03T13:38:26.577122Z"
    }
   },
   "outputs": [],
   "source": [
    "full_path = join('/media', 'root', 'easystore', 'experiments', \n",
    "                 'audiomnist', '01.00', 'AudioMNIST', 'data')"
   ]
  },
  {
   "cell_type": "code",
   "execution_count": 4,
   "metadata": {
    "ExecuteTime": {
     "end_time": "2021-05-03T13:38:27.225319Z",
     "start_time": "2021-05-03T13:38:26.748176Z"
    },
    "scrolled": true
   },
   "outputs": [
    {
     "name": "stdout",
     "output_type": "stream",
     "text": [
      "/media/root/easystore/experiments/audiomnist/01.00/AudioMNIST/data/data_17_1.00.npy\n",
      "/media/root/easystore/experiments/audiomnist/01.00/AudioMNIST/data/data_34_1.00.npy\n",
      "/media/root/easystore/experiments/audiomnist/01.00/AudioMNIST/data/data_01_1.00.npy\n",
      "/media/root/easystore/experiments/audiomnist/01.00/AudioMNIST/data/data_02_1.00.npy\n",
      "/media/root/easystore/experiments/audiomnist/01.00/AudioMNIST/data/data_03_1.00.npy\n",
      "/media/root/easystore/experiments/audiomnist/01.00/AudioMNIST/data/data_04_1.00.npy\n",
      "/media/root/easystore/experiments/audiomnist/01.00/AudioMNIST/data/data_05_1.00.npy\n",
      "/media/root/easystore/experiments/audiomnist/01.00/AudioMNIST/data/data_06_1.00.npy\n",
      "/media/root/easystore/experiments/audiomnist/01.00/AudioMNIST/data/data_07_1.00.npy\n",
      "/media/root/easystore/experiments/audiomnist/01.00/AudioMNIST/data/data_08_1.00.npy\n",
      "/media/root/easystore/experiments/audiomnist/01.00/AudioMNIST/data/data_09_1.00.npy\n",
      "/media/root/easystore/experiments/audiomnist/01.00/AudioMNIST/data/data_10_1.00.npy\n",
      "/media/root/easystore/experiments/audiomnist/01.00/AudioMNIST/data/data_11_1.00.npy\n",
      "/media/root/easystore/experiments/audiomnist/01.00/AudioMNIST/data/data_12_1.00.npy\n",
      "/media/root/easystore/experiments/audiomnist/01.00/AudioMNIST/data/data_13_1.00.npy\n",
      "/media/root/easystore/experiments/audiomnist/01.00/AudioMNIST/data/data_14_1.00.npy\n",
      "/media/root/easystore/experiments/audiomnist/01.00/AudioMNIST/data/data_15_1.00.npy\n",
      "/media/root/easystore/experiments/audiomnist/01.00/AudioMNIST/data/data_16_1.00.npy\n",
      "/media/root/easystore/experiments/audiomnist/01.00/AudioMNIST/data/data_18_1.00.npy\n",
      "/media/root/easystore/experiments/audiomnist/01.00/AudioMNIST/data/data_19_1.00.npy\n",
      "/media/root/easystore/experiments/audiomnist/01.00/AudioMNIST/data/data_20_1.00.npy\n",
      "/media/root/easystore/experiments/audiomnist/01.00/AudioMNIST/data/data_21_1.00.npy\n",
      "/media/root/easystore/experiments/audiomnist/01.00/AudioMNIST/data/data_22_1.00.npy\n",
      "/media/root/easystore/experiments/audiomnist/01.00/AudioMNIST/data/data_23_1.00.npy\n",
      "/media/root/easystore/experiments/audiomnist/01.00/AudioMNIST/data/data_24_1.00.npy\n",
      "/media/root/easystore/experiments/audiomnist/01.00/AudioMNIST/data/data_25_1.00.npy\n",
      "/media/root/easystore/experiments/audiomnist/01.00/AudioMNIST/data/data_26_1.00.npy\n",
      "/media/root/easystore/experiments/audiomnist/01.00/AudioMNIST/data/data_27_1.00.npy\n",
      "/media/root/easystore/experiments/audiomnist/01.00/AudioMNIST/data/data_28_1.00.npy\n",
      "/media/root/easystore/experiments/audiomnist/01.00/AudioMNIST/data/data_29_1.00.npy\n",
      "/media/root/easystore/experiments/audiomnist/01.00/AudioMNIST/data/data_30_1.00.npy\n",
      "/media/root/easystore/experiments/audiomnist/01.00/AudioMNIST/data/data_31_1.00.npy\n",
      "/media/root/easystore/experiments/audiomnist/01.00/AudioMNIST/data/data_32_1.00.npy\n",
      "/media/root/easystore/experiments/audiomnist/01.00/AudioMNIST/data/data_33_1.00.npy\n",
      "/media/root/easystore/experiments/audiomnist/01.00/AudioMNIST/data/data_35_1.00.npy\n",
      "/media/root/easystore/experiments/audiomnist/01.00/AudioMNIST/data/data_36_1.00.npy\n",
      "/media/root/easystore/experiments/audiomnist/01.00/AudioMNIST/data/data_37_1.00.npy\n",
      "/media/root/easystore/experiments/audiomnist/01.00/AudioMNIST/data/data_38_1.00.npy\n",
      "/media/root/easystore/experiments/audiomnist/01.00/AudioMNIST/data/data_39_1.00.npy\n",
      "/media/root/easystore/experiments/audiomnist/01.00/AudioMNIST/data/data_40_1.00.npy\n",
      "/media/root/easystore/experiments/audiomnist/01.00/AudioMNIST/data/data_41_1.00.npy\n",
      "/media/root/easystore/experiments/audiomnist/01.00/AudioMNIST/data/data_42_1.00.npy\n",
      "/media/root/easystore/experiments/audiomnist/01.00/AudioMNIST/data/data_43_1.00.npy\n",
      "/media/root/easystore/experiments/audiomnist/01.00/AudioMNIST/data/data_44_1.00.npy\n",
      "/media/root/easystore/experiments/audiomnist/01.00/AudioMNIST/data/data_45_1.00.npy\n",
      "/media/root/easystore/experiments/audiomnist/01.00/AudioMNIST/data/data_46_1.00.npy\n",
      "/media/root/easystore/experiments/audiomnist/01.00/AudioMNIST/data/data_47_1.00.npy\n",
      "/media/root/easystore/experiments/audiomnist/01.00/AudioMNIST/data/data_48_1.00.npy\n",
      "/media/root/easystore/experiments/audiomnist/01.00/AudioMNIST/data/data_49_1.00.npy\n",
      "/media/root/easystore/experiments/audiomnist/01.00/AudioMNIST/data/data_50_1.00.npy\n",
      "/media/root/easystore/experiments/audiomnist/01.00/AudioMNIST/data/data_51_1.00.npy\n",
      "/media/root/easystore/experiments/audiomnist/01.00/AudioMNIST/data/data_52_1.00.npy\n",
      "/media/root/easystore/experiments/audiomnist/01.00/AudioMNIST/data/data_53_1.00.npy\n",
      "/media/root/easystore/experiments/audiomnist/01.00/AudioMNIST/data/data_54_1.00.npy\n",
      "/media/root/easystore/experiments/audiomnist/01.00/AudioMNIST/data/data_55_1.00.npy\n",
      "/media/root/easystore/experiments/audiomnist/01.00/AudioMNIST/data/data_56_1.00.npy\n",
      "/media/root/easystore/experiments/audiomnist/01.00/AudioMNIST/data/data_57_1.00.npy\n",
      "/media/root/easystore/experiments/audiomnist/01.00/AudioMNIST/data/data_58_1.00.npy\n",
      "/media/root/easystore/experiments/audiomnist/01.00/AudioMNIST/data/data_59_1.00.npy\n"
     ]
    }
   ],
   "source": [
    "all_files = pd.read_csv(join('data','files_info.csv'))\n",
    "all_dat = []\n",
    "for f in glob.glob(join(full_path, \"*\")):\n",
    "    print(f)\n",
    "    all_dat.append(np.load(join(full_path, f)))\n",
    "all_dat = np.concatenate(all_dat, axis=0)"
   ]
  },
  {
   "cell_type": "code",
   "execution_count": 5,
   "metadata": {
    "ExecuteTime": {
     "end_time": "2021-05-03T13:38:30.157859Z",
     "start_time": "2021-05-03T13:38:30.152268Z"
    }
   },
   "outputs": [],
   "source": [
    "all_files['ind_idx'] = all_files.dat_idx[:]\n",
    "all_files.dat_idx =  (all_files.subjid - 1)*500 + all_files.dat_idx"
   ]
  },
  {
   "cell_type": "code",
   "execution_count": 7,
   "metadata": {
    "ExecuteTime": {
     "end_time": "2021-05-03T13:38:32.027820Z",
     "start_time": "2021-05-03T13:38:31.857754Z"
    }
   },
   "outputs": [
    {
     "name": "stdout",
     "output_type": "stream",
     "text": [
      "(26550, 50, 250) (26550,) (2950, 50, 250) (2950,)\n"
     ]
    }
   ],
   "source": [
    "trainX = all_dat[list(all_files.loc[(all_files.rec_split<9)&(all_files.subjid!=60), 'dat_idx'])]\n",
    "trainY = np.array(all_files.loc[(all_files.rec_split<9)&(all_files.subjid!=60), 'digit'])\n",
    "testX = all_dat[list(all_files.loc[(all_files.rec_split==9)&(all_files.subjid!=60), 'dat_idx'])]\n",
    "testY = np.array(all_files.loc[(all_files.rec_split==9)&(all_files.subjid!=60), 'digit'])\n",
    "print(trainX.shape, trainY.shape, testX.shape, testY.shape)"
   ]
  },
  {
   "cell_type": "code",
   "execution_count": 9,
   "metadata": {
    "ExecuteTime": {
     "end_time": "2021-05-03T13:38:36.406082Z",
     "start_time": "2021-05-03T13:38:34.456019Z"
    }
   },
   "outputs": [],
   "source": [
    "batch_size = 16\n",
    "dataset = torch.utils.data.TensorDataset(torch.Tensor(trainX).cuda(), \n",
    "                                         torch.LongTensor(trainY).cuda())\n",
    "dataset = torch.utils.data.DataLoader(dataset, batch_size=batch_size, shuffle=True)\n",
    "\n",
    "dataset_valid = torch.utils.data.TensorDataset(torch.Tensor(testX).cuda(), \n",
    "                                               torch.LongTensor(testY).cuda())\n",
    "dataset_valid = torch.utils.data.DataLoader(dataset_valid, batch_size=batch_size, shuffle=False)"
   ]
  },
  {
   "cell_type": "code",
   "execution_count": null,
   "metadata": {},
   "outputs": [],
   "source": []
  },
  {
   "cell_type": "markdown",
   "metadata": {},
   "source": [
    "# Classes "
   ]
  },
  {
   "cell_type": "code",
   "execution_count": 10,
   "metadata": {
    "ExecuteTime": {
     "end_time": "2021-05-03T13:38:38.377266Z",
     "start_time": "2021-05-03T13:38:38.343990Z"
    }
   },
   "outputs": [],
   "source": [
    "class SITHCon_Classifier(nn.Module):\n",
    "    def __init__(self, out_classes, layer_params, \n",
    "                 act_func=nn.ReLU, batch_norm=False,\n",
    "                 dropout=.2):\n",
    "        super(SITHCon_Classifier, self).__init__()\n",
    "        last_channels = layer_params[-1]['channels']\n",
    "        self.transform_linears = nn.ModuleList([nn.Linear(l['channels'], l['channels'])\n",
    "                                                for l in layer_params])\n",
    "        self.sithcon_layers = nn.ModuleList([SITHCon_Layer(l, act_func) for l in layer_params])\n",
    "        self.to_out = nn.Linear(last_channels, out_classes)\n",
    "        \n",
    "        \n",
    "    def forward(self, inp):\n",
    "        \n",
    "        x = inp\n",
    "        #out = []\n",
    "        for i in range(len(self.sithcon_layers)):\n",
    "            x = self.sithcon_layers[i](x)\n",
    "            \n",
    "            x = F.relu(self.transform_linears[i](x[:,0,:,:].transpose(1,2)))\n",
    "            x = x.unsqueeze(1).transpose(2,3)\n",
    "\n",
    "            #out.append(x.clone())\n",
    "        x = x.transpose(2,3)[:, 0, :, :]\n",
    "        #x = x.transpose(2,3)[:, 0, :, :]\n",
    "        x = self.to_out(x)\n",
    "        return x"
   ]
  },
  {
   "cell_type": "markdown",
   "metadata": {},
   "source": [
    "# Functions"
   ]
  },
  {
   "cell_type": "code",
   "execution_count": 15,
   "metadata": {
    "ExecuteTime": {
     "end_time": "2021-05-03T13:40:33.376286Z",
     "start_time": "2021-05-03T13:40:33.363099Z"
    }
   },
   "outputs": [],
   "source": [
    "def gen_model(p):\n",
    "    sp1 = dict(in_features=50, \n",
    "               tau_min=.1, tau_max=4000, buff_max=6500,\n",
    "               dt=1, ntau=p[0], k=p[1], g=0.0, ttype=ttype, \n",
    "               channels=35, kernel_width=p[2], dilation=p[3],\n",
    "               dropout=None, batch_norm=None)\n",
    "    sp2 = dict(in_features=sp1['channels'], \n",
    "               tau_min=.1, tau_max=4000, buff_max=6500,\n",
    "               dt=1, ntau=p[0], k=p[1], g=0.0, ttype=ttype, \n",
    "               channels=35, kernel_width=p[2], dilation=p[3], \n",
    "               dropout=None, batch_norm=None)\n",
    "    sp3 = dict(in_features=sp2['channels'], \n",
    "               tau_min=.1, tau_max=4000, buff_max=6500,\n",
    "               dt=1, ntau=p[0], k=p[1], g=0.0, ttype=ttype, \n",
    "               channels=35, kernel_width=p[2], dilation=p[3], \n",
    "               dropout=None, batch_norm=None)\n",
    "    layer_params = [sp1, sp2]#, sp3]\n",
    "    model = SITHCon_Classifier(10, layer_params, act_func=None,#nn.ReLU\n",
    "                              ).cuda()\n",
    "    return model\n",
    "\n",
    "def train(model, ttype, train_loader, test_loader, optimizer, loss_func, epoch, perf_file,\n",
    "          loss_buffer_size=100, batch_size=4, device='cuda',\n",
    "          prog_bar=None, last_test_perf=0):\n",
    "    \n",
    "    assert(loss_buffer_size%batch_size==0)\n",
    "    perfs = []\n",
    "    losses = []\n",
    "    best_test_perf = last_test_perf\n",
    "    \n",
    "    for batch_idx, (data, target) in enumerate(train_loader):\n",
    "        model.train()\n",
    "        data = data.to(device).unsqueeze(1)\n",
    "        target = target.to(device)\n",
    "        optimizer.zero_grad()\n",
    "        out = model(data)\n",
    "        loss = loss_func(out[:, -1, :],\n",
    "                         target)\n",
    "\n",
    "        loss.backward()\n",
    "        optimizer.step()\n",
    "        perfs.append((torch.argmax(out[:, -1, :], dim=-1) == \n",
    "                      target).sum().item())\n",
    "        perfs = perfs[int(-loss_buffer_size/batch_size):]\n",
    "                          \n",
    "        losses.append(loss.detach().cpu().numpy())\n",
    "        losses = losses[int(-loss_buffer_size/batch_size):]\n",
    "        \n",
    "        if ((batch_idx*batch_size)%loss_buffer_size == 0) & (batch_idx != 0):\n",
    "            loss_track = {}\n",
    "            #last_test_perf = test_model(model, 'cuda', test_loader, \n",
    "            #                            batch_size)\n",
    "            loss_track['avg_loss'] = np.mean(losses)\n",
    "            #loss_track['last_test'] = last_test_perf\n",
    "            loss_track['training_perf'] = np.mean(perfs) / (batch_size)\n",
    "            loss_track['epoch'] = epoch\n",
    "            loss_track['batch_idx'] = batch_idx\n",
    "            last_test_perf =  np.mean(perfs) / (batch_size)\n",
    "            with open(perf_file, 'a+') as fp:\n",
    "                csv_writer = DictWriter(fp, fieldnames=list(loss_track.keys()))\n",
    "                if fp.tell() == 0:\n",
    "                    csv_writer.writeheader()\n",
    "                csv_writer.writerow(loss_track)\n",
    "                fp.flush()\n",
    "            if best_test_perf < last_test_perf:\n",
    "                torch.save(model.state_dict(), perf_file[:-4]+\".pt\")\n",
    "                best_test_perf = last_test_perf\n",
    "        if not (prog_bar is None):\n",
    "            # Update progress_bar\n",
    "            s = \"{}:{} Loss: {:.5f}, Tperf: {:.4f}, valid: {:.4f}\"\n",
    "            format_list = [epoch,batch_idx*batch_size, np.mean(losses), \n",
    "                           np.mean(perfs) / (batch_size),\n",
    "                           last_test_perf]         \n",
    "            s = s.format(*format_list)\n",
    "            prog_bar.set_description(s)\n",
    "    return best_test_perf\n",
    "def test_model(model, device, test_loader, batch_size):\n",
    "    # Test the Model\n",
    "    perfs = []\n",
    "    tot = 0.0\n",
    "    total_num = 0.0\n",
    "    with torch.no_grad():\n",
    "        for data, target in test_loader:\n",
    "            data = data.to(device).unsqueeze(1)\n",
    "            batch = data.shape[0]\n",
    "            target = target.to(device)\n",
    "            out = model(data)\n",
    "            total_num += batch\n",
    "            tot += (torch.argmax(out[:, -1, :], \n",
    "                                 dim=-1) == target).sum().item()\n",
    "            \n",
    "    perf = tot / total_num\n",
    "    return perf\n",
    "\n",
    "def save_outcome(outcome, filename):\n",
    "    dat = pd.DataFrame(outcome)\n",
    "    dat.to_csv(join('perf',filename))"
   ]
  },
  {
   "cell_type": "markdown",
   "metadata": {},
   "source": [
    "# Go!"
   ]
  },
  {
   "cell_type": "code",
   "execution_count": 16,
   "metadata": {
    "ExecuteTime": {
     "end_time": "2021-05-03T13:40:35.629788Z",
     "start_time": "2021-05-03T13:40:35.525846Z"
    }
   },
   "outputs": [],
   "source": [
    "params = [\n",
    "          [400, 35, 23, 2],\n",
    "          ]\n",
    "model = gen_model(params[0])"
   ]
  },
  {
   "cell_type": "code",
   "execution_count": 17,
   "metadata": {
    "ExecuteTime": {
     "end_time": "2021-05-03T15:59:40.192287Z",
     "start_time": "2021-05-03T13:40:56.476835Z"
    }
   },
   "outputs": [
    {
     "name": "stdout",
     "output_type": "stream",
     "text": [
      "Total Weights: 71375\n"
     ]
    },
    {
     "data": {
      "application/vnd.jupyter.widget-view+json": {
       "model_id": "163426b23aa84fccb3b06ff4ec082c8f",
       "version_major": 2,
       "version_minor": 0
      },
      "text/plain": [
       "HBox(children=(FloatProgress(value=0.0, max=10.0), HTML(value='')))"
      ]
     },
     "metadata": {},
     "output_type": "display_data"
    },
    {
     "name": "stdout",
     "output_type": "stream",
     "text": [
      "\n"
     ]
    }
   ],
   "source": [
    "runs = 1\n",
    "for r in range(runs):\n",
    "    for i, p in enumerate(params):\n",
    "        best_test_perf = -1\n",
    "        model = gen_model(p)\n",
    "\n",
    "        tot_weights = 0\n",
    "        for p in model.parameters():\n",
    "            tot_weights += p.numel()\n",
    "        print(\"Total Weights:\", tot_weights)\n",
    "\n",
    "        loss_func = torch.nn.CrossEntropyLoss()\n",
    "        optimizer = torch.optim.Adam(model.parameters())\n",
    "        epochs = 10\n",
    "        Trainscale = 10\n",
    "        device='cuda'\n",
    "        progress_bar = tqdm(range(int(epochs)), bar_format='{l_bar}{bar:5}{r_bar}{bar:-5b}')\n",
    "        epochperfs = []\n",
    "        times_100 = 0\n",
    "        for epoch_idx in progress_bar:\n",
    "            perfs = []\n",
    "            losses = []\n",
    "            model.train()\n",
    "            best_test_perf = train(model, ttype, dataset, dataset_valid, \n",
    "                                  optimizer, loss_func, batch_size=batch_size, loss_buffer_size=992,\n",
    "                                  epoch=epoch_idx, perf_file=join('perf','sithcon_audiomnist_5032021_{}.csv'.format(r)),\n",
    "                                  prog_bar=progress_bar, last_test_perf=best_test_perf)"
   ]
  },
  {
   "cell_type": "code",
   "execution_count": 18,
   "metadata": {
    "ExecuteTime": {
     "end_time": "2021-05-03T15:59:40.196370Z",
     "start_time": "2021-05-03T15:59:40.193205Z"
    }
   },
   "outputs": [
    {
     "data": {
      "text/plain": [
       "<All keys matched successfully>"
      ]
     },
     "execution_count": 18,
     "metadata": {},
     "output_type": "execute_result"
    }
   ],
   "source": [
    "model.load_state_dict(torch.load('perf/sithcon_audiomnist_5032021_0.pt'))"
   ]
  },
  {
   "cell_type": "code",
   "execution_count": 19,
   "metadata": {
    "ExecuteTime": {
     "end_time": "2021-05-03T16:22:24.522921Z",
     "start_time": "2021-05-03T15:59:40.197164Z"
    },
    "scrolled": false
   },
   "outputs": [
    {
     "name": "stdout",
     "output_type": "stream",
     "text": [
      "{'perf': 0.9596666666666666, 'scal': 0.1}\n",
      "{'perf': 0.9626666666666666, 'scal': 0.2}\n",
      "{'perf': 0.959, 'scal': 0.4}\n",
      "{'perf': 0.958, 'scal': 0.8}\n",
      "{'perf': 0.9738983050847457, 'scal': 1.0}\n",
      "{'perf': 0.9536666666666667, 'scal': 1.25}\n",
      "{'perf': 0.9323333333333333, 'scal': 2.5}\n",
      "{'perf': 0.6769999999999999, 'scal': 5.0}\n",
      "{'perf': 0.3298305084745763, 'scal': 10.0}\n"
     ]
    }
   ],
   "source": [
    "scales = [\n",
    "          '10.00', \n",
    "          '05.00', \n",
    "          '02.50',\n",
    "          '01.25', \n",
    "          '01.00', \n",
    "          '00.80', \n",
    "          '00.40', \n",
    "          '00.20', \n",
    "          '00.10'\n",
    "          ][::-1]\n",
    "scale_perf = []\n",
    "for scale in scales:\n",
    "    test_paths = join('/media', 'root', 'easystore', 'experiments', \n",
    "                     'audiomnist', scale, 'AudioMNIST', 'data')\n",
    "    full_file = glob.glob(join(test_paths, \"*\"))\n",
    "    subj_perfs = []\n",
    "    for filename in full_file:\n",
    "        test_dat = np.load(filename)\n",
    "        \n",
    "        testX = test_dat[list(all_files.loc[(all_files.rec_split==9)&\n",
    "                                            (all_files.subjid==int(filename.split(\"_\")[-2])), 'ind_idx'])]\n",
    "        testY = np.array(all_files.loc[(all_files.rec_split==9)&\n",
    "                                       (all_files.subjid==int(filename.split(\"_\")[-2])), 'digit'])\n",
    "        dataset_test = torch.utils.data.TensorDataset(torch.Tensor(testX).cuda(), \n",
    "                                                       torch.LongTensor(testY).cuda())\n",
    "        dataset_test = torch.utils.data.DataLoader(dataset_test, batch_size=2, shuffle=False)\n",
    "        \n",
    "        last_test_perf = test_model(model, 'cuda',\n",
    "                                    dataset_test, batch_size=2)\n",
    "        subj_perfs.append(last_test_perf)\n",
    "    scoredict = {'perf':np.mean(subj_perfs),\n",
    "                       'scal':float(scale)}\n",
    "    print(scoredict)\n",
    "    scale_perf.append(scoredict)\n",
    "scale_perfs = pd.DataFrame(scale_perf)\n",
    "scale_perfs.to_pickle(join(\"perf\", \"sithcon_hard_test_5032021.dill\"))"
   ]
  },
  {
   "cell_type": "code",
   "execution_count": null,
   "metadata": {},
   "outputs": [],
   "source": []
  }
 ],
 "metadata": {
  "kernelspec": {
   "display_name": "Python 3",
   "language": "python",
   "name": "python3"
  },
  "language_info": {
   "codemirror_mode": {
    "name": "ipython",
    "version": 3
   },
   "file_extension": ".py",
   "mimetype": "text/x-python",
   "name": "python",
   "nbconvert_exporter": "python",
   "pygments_lexer": "ipython3",
   "version": "3.6.10"
  },
  "toc": {
   "nav_menu": {},
   "number_sections": true,
   "sideBar": true,
   "skip_h1_title": false,
   "title_cell": "Table of Contents",
   "title_sidebar": "Contents",
   "toc_cell": false,
   "toc_position": {},
   "toc_section_display": true,
   "toc_window_display": false
  }
 },
 "nbformat": 4,
 "nbformat_minor": 4
}
