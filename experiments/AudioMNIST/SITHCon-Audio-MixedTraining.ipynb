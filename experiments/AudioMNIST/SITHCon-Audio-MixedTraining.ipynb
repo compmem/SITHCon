{
 "cells": [
  {
   "cell_type": "code",
   "execution_count": 2,
   "metadata": {
    "ExecuteTime": {
     "end_time": "2021-05-05T19:41:15.046305Z",
     "start_time": "2021-05-05T19:41:14.828450Z"
    }
   },
   "outputs": [],
   "source": [
    "%matplotlib inline"
   ]
  },
  {
   "cell_type": "code",
   "execution_count": 3,
   "metadata": {
    "ExecuteTime": {
     "end_time": "2021-05-05T19:41:15.648107Z",
     "start_time": "2021-05-05T19:41:15.047290Z"
    }
   },
   "outputs": [
    {
     "name": "stdout",
     "output_type": "stream",
     "text": [
      "<class 'torch.cuda.FloatTensor'>\n"
     ]
    }
   ],
   "source": [
    "import matplotlib.pyplot as plt\n",
    "import seaborn as sn\n",
    "sn.set_context(\"poster\")\n",
    "\n",
    "import torch\n",
    "from torch import nn as nn\n",
    "ttype = torch.cuda.FloatTensor if torch.cuda.is_available() else torch.FloatTensor\n",
    "ctype = torch.cuda.LongTensor if torch.cuda.is_available() else torch.LongTensor\n",
    "print(ttype)\n",
    "import torch.nn.functional as F\n",
    "from matplotlib import gridspec\n",
    "from sithcon import SITHCon_Layer, _SITHCon_Core, iSITH\n",
    "\n",
    "from tqdm.notebook import tqdm\n",
    "\n",
    "import itertools\n",
    "from csv import DictWriter\n",
    "import os \n",
    "from os.path import join\n",
    "import glob\n",
    "\n",
    "import numpy as np\n",
    "import pandas as pd\n",
    "import pickle\n",
    "from math import factorial\n",
    "import random"
   ]
  },
  {
   "cell_type": "code",
   "execution_count": 56,
   "metadata": {
    "ExecuteTime": {
     "end_time": "2021-05-05T19:42:55.627756Z",
     "start_time": "2021-05-05T19:42:55.621364Z"
    }
   },
   "outputs": [],
   "source": [
    "full_path = join('/media', 'root', 'easystore', 'experiments', \n",
    "                 'audiomnist', '1.0', 'AudioMNIST', 'data')"
   ]
  },
  {
   "cell_type": "code",
   "execution_count": 58,
   "metadata": {
    "ExecuteTime": {
     "end_time": "2021-05-05T19:42:56.178484Z",
     "start_time": "2021-05-05T19:42:56.149636Z"
    }
   },
   "outputs": [
    {
     "name": "stdout",
     "output_type": "stream",
     "text": [
      "   Unnamed: 0  digit  subjid  rec  length  split_group  rec_split  dat_idx  \\\n",
      "0           0      0       1    0   35877            0          0        0   \n",
      "1           1      0       1    1   31356            0          1        1   \n",
      "2           2      0       1   10   31210            0          0        2   \n",
      "3           3      0       1   11   29467            0          1        3   \n",
      "4           4      0       1   12   32852            0          2        4   \n",
      "\n",
      "   train_scale  \n",
      "0          1.0  \n",
      "1          1.0  \n",
      "2          1.0  \n",
      "3          1.0  \n",
      "4          1.0  \n"
     ]
    }
   ],
   "source": [
    "all_files = pd.read_csv(join('data','files_info.csv'))\n",
    "\n",
    "tr_info = all_files[(all_files.rec_split<9)&(all_files.subjid!=60)].reset_index()\n",
    "del tr_info['index']\n",
    "tr_info['train_scale'] = [1.0]*tr_info.shape[0]\n",
    "\n",
    "print(tr_info.head())"
   ]
  },
  {
   "cell_type": "code",
   "execution_count": 59,
   "metadata": {
    "ExecuteTime": {
     "end_time": "2021-05-05T19:42:58.367905Z",
     "start_time": "2021-05-05T19:42:58.360197Z"
    }
   },
   "outputs": [
    {
     "name": "stdout",
     "output_type": "stream",
     "text": [
      "/media/root/easystore/experiments/audiomnist/01.00/AudioMNIST/data/data_01_1.00.npy\n"
     ]
    }
   ],
   "source": [
    "start_path =\"/media/root/easystore/experiments/audiomnist/{:05.2f}/AudioMNIST/data/data_{:02}_{:.2f}.npy\"\n",
    "print(\"/media/root/easystore/experiments/audiomnist/{:05.2f}/AudioMNIST/data/data_{:02}_{:.2f}.npy\".format(1.0, \n",
    "                                                                                                          1, \n",
    "                                                                                                          1.0))"
   ]
  },
  {
   "cell_type": "code",
   "execution_count": 142,
   "metadata": {
    "ExecuteTime": {
     "end_time": "2021-05-05T21:39:19.991150Z",
     "start_time": "2021-05-05T21:39:14.105076Z"
    }
   },
   "outputs": [],
   "source": [
    "scales = [.1,.4,  1.0,  2.5,10.]\n",
    "nps = int(tr_info[(tr_info.digit==0)].count()[0]/len(scales))\n",
    "num_per_scale = [nps]*len(scales)\n",
    "print(tr_info[(tr_info.digit==0)].count()[0])\n",
    "num_per_scale[-1] = num_per_scale[-1] + tr_info[(tr_info.digit==0)].count()[0] - nps*len(scales)\n",
    "print(num_per_scale)\n"
   ]
  },
  {
   "cell_type": "markdown",
   "metadata": {
    "ExecuteTime": {
     "end_time": "2021-05-05T21:43:44.577522Z",
     "start_time": "2021-05-05T21:39:21.434865Z"
    },
    "scrolled": true
   },
   "source": [
    "# DO NOT RUN. THIS WILL BE PROVIDED\n",
    "\n",
    "\n",
    "    # From digit 0 to 9\n",
    "    for d in range(0, 10):\n",
    "        idxs = tr_info[tr_info.digit == d].index\n",
    "        # randomly shuffle order so we get random recordings from random \n",
    "        # participants getting scaled.\n",
    "        permute = np.arange(idxs.shape[0])\n",
    "        num_curr_scale = 0\n",
    "        scale_index = 0\n",
    "        for i in idxs[permute]:\n",
    "            tr_info.loc[i, 'train_scale'] = scales[scale_index]\n",
    "            num_curr_scale += 1\n",
    "            if num_curr_scale == num_per_scale[scale_index]:\n",
    "                scale_index += 1\n",
    "                num_curr_scale = 0\n",
    "        trainX = []\n",
    "        trainY = []\n",
    "    for scale in tr_info.train_scale.unique():\n",
    "        for subjid in tr_info.subjid.unique():\n",
    "            fp = start_path.format(scale, \n",
    "                                   subjid, \n",
    "                                   scale)\n",
    "            loaded = np.load(fp)\n",
    "\n",
    "            dat_idxs = list(tr_info.loc[(tr_info.train_scale==scale)&\n",
    "                                    (tr_info.subjid==subjid), \n",
    "                                    'dat_idx'])\n",
    "\n",
    "            small_datX = [loaded[idx] for idx in dat_idxs]\n",
    "            small_datY = list(tr_info.loc[(tr_info.train_scale==scale)&\n",
    "                                          (tr_info.subjid==subjid), \n",
    "                                          'digit'])\n",
    "            trainX += small_datX\n",
    "            trainY += small_datY\n",
    "            print('Finished {} at {}'.format(subjid, scale))\n",
    "    with open(join('data', 'trainX_sawtooth.dill'), \"wb\") as f:\n",
    "        pickle.dump(trainX, f)\n",
    "    with open(join('data', 'trainY_sawtooth.dill'), \"wb\") as f:\n",
    "        pickle.dump(trainY, f)\n"
   ]
  },
  {
   "cell_type": "code",
   "execution_count": 34,
   "metadata": {
    "ExecuteTime": {
     "end_time": "2021-04-28T14:55:25.397698Z",
     "start_time": "2021-04-28T14:55:25.380440Z"
    }
   },
   "outputs": [
    {
     "data": {
      "text/html": [
       "<div>\n",
       "<style scoped>\n",
       "    .dataframe tbody tr th:only-of-type {\n",
       "        vertical-align: middle;\n",
       "    }\n",
       "\n",
       "    .dataframe tbody tr th {\n",
       "        vertical-align: top;\n",
       "    }\n",
       "\n",
       "    .dataframe thead th {\n",
       "        text-align: right;\n",
       "    }\n",
       "</style>\n",
       "<table border=\"1\" class=\"dataframe\">\n",
       "  <thead>\n",
       "    <tr style=\"text-align: right;\">\n",
       "      <th></th>\n",
       "      <th>Unnamed: 0</th>\n",
       "      <th>digit</th>\n",
       "      <th>subjid</th>\n",
       "      <th>rec</th>\n",
       "      <th>length</th>\n",
       "      <th>split_group</th>\n",
       "      <th>rec_split</th>\n",
       "      <th>dat_idx</th>\n",
       "      <th>train_scale</th>\n",
       "    </tr>\n",
       "  </thead>\n",
       "  <tbody>\n",
       "    <tr>\n",
       "      <th>0</th>\n",
       "      <td>0</td>\n",
       "      <td>0</td>\n",
       "      <td>1</td>\n",
       "      <td>0</td>\n",
       "      <td>35877</td>\n",
       "      <td>0</td>\n",
       "      <td>0</td>\n",
       "      <td>0</td>\n",
       "      <td>1.0</td>\n",
       "    </tr>\n",
       "    <tr>\n",
       "      <th>1</th>\n",
       "      <td>1</td>\n",
       "      <td>0</td>\n",
       "      <td>1</td>\n",
       "      <td>1</td>\n",
       "      <td>31356</td>\n",
       "      <td>0</td>\n",
       "      <td>1</td>\n",
       "      <td>1</td>\n",
       "      <td>1.0</td>\n",
       "    </tr>\n",
       "    <tr>\n",
       "      <th>2</th>\n",
       "      <td>2</td>\n",
       "      <td>0</td>\n",
       "      <td>1</td>\n",
       "      <td>10</td>\n",
       "      <td>31210</td>\n",
       "      <td>0</td>\n",
       "      <td>0</td>\n",
       "      <td>2</td>\n",
       "      <td>1.0</td>\n",
       "    </tr>\n",
       "    <tr>\n",
       "      <th>3</th>\n",
       "      <td>3</td>\n",
       "      <td>0</td>\n",
       "      <td>1</td>\n",
       "      <td>11</td>\n",
       "      <td>29467</td>\n",
       "      <td>0</td>\n",
       "      <td>1</td>\n",
       "      <td>3</td>\n",
       "      <td>1.0</td>\n",
       "    </tr>\n",
       "    <tr>\n",
       "      <th>4</th>\n",
       "      <td>4</td>\n",
       "      <td>0</td>\n",
       "      <td>1</td>\n",
       "      <td>12</td>\n",
       "      <td>32852</td>\n",
       "      <td>0</td>\n",
       "      <td>2</td>\n",
       "      <td>4</td>\n",
       "      <td>1.0</td>\n",
       "    </tr>\n",
       "    <tr>\n",
       "      <th>...</th>\n",
       "      <td>...</td>\n",
       "      <td>...</td>\n",
       "      <td>...</td>\n",
       "      <td>...</td>\n",
       "      <td>...</td>\n",
       "      <td>...</td>\n",
       "      <td>...</td>\n",
       "      <td>...</td>\n",
       "      <td>...</td>\n",
       "    </tr>\n",
       "    <tr>\n",
       "      <th>445</th>\n",
       "      <td>493</td>\n",
       "      <td>9</td>\n",
       "      <td>1</td>\n",
       "      <td>48</td>\n",
       "      <td>34279</td>\n",
       "      <td>0</td>\n",
       "      <td>8</td>\n",
       "      <td>493</td>\n",
       "      <td>1.0</td>\n",
       "    </tr>\n",
       "    <tr>\n",
       "      <th>446</th>\n",
       "      <td>495</td>\n",
       "      <td>9</td>\n",
       "      <td>1</td>\n",
       "      <td>5</td>\n",
       "      <td>32671</td>\n",
       "      <td>0</td>\n",
       "      <td>5</td>\n",
       "      <td>495</td>\n",
       "      <td>1.0</td>\n",
       "    </tr>\n",
       "    <tr>\n",
       "      <th>447</th>\n",
       "      <td>496</td>\n",
       "      <td>9</td>\n",
       "      <td>1</td>\n",
       "      <td>6</td>\n",
       "      <td>33507</td>\n",
       "      <td>0</td>\n",
       "      <td>6</td>\n",
       "      <td>496</td>\n",
       "      <td>1.0</td>\n",
       "    </tr>\n",
       "    <tr>\n",
       "      <th>448</th>\n",
       "      <td>497</td>\n",
       "      <td>9</td>\n",
       "      <td>1</td>\n",
       "      <td>7</td>\n",
       "      <td>30218</td>\n",
       "      <td>0</td>\n",
       "      <td>7</td>\n",
       "      <td>497</td>\n",
       "      <td>1.0</td>\n",
       "    </tr>\n",
       "    <tr>\n",
       "      <th>449</th>\n",
       "      <td>498</td>\n",
       "      <td>9</td>\n",
       "      <td>1</td>\n",
       "      <td>8</td>\n",
       "      <td>29690</td>\n",
       "      <td>0</td>\n",
       "      <td>8</td>\n",
       "      <td>498</td>\n",
       "      <td>1.0</td>\n",
       "    </tr>\n",
       "  </tbody>\n",
       "</table>\n",
       "<p>450 rows × 9 columns</p>\n",
       "</div>"
      ],
      "text/plain": [
       "     Unnamed: 0  digit  subjid  rec  length  split_group  rec_split  dat_idx  \\\n",
       "0             0      0       1    0   35877            0          0        0   \n",
       "1             1      0       1    1   31356            0          1        1   \n",
       "2             2      0       1   10   31210            0          0        2   \n",
       "3             3      0       1   11   29467            0          1        3   \n",
       "4             4      0       1   12   32852            0          2        4   \n",
       "..          ...    ...     ...  ...     ...          ...        ...      ...   \n",
       "445         493      9       1   48   34279            0          8      493   \n",
       "446         495      9       1    5   32671            0          5      495   \n",
       "447         496      9       1    6   33507            0          6      496   \n",
       "448         497      9       1    7   30218            0          7      497   \n",
       "449         498      9       1    8   29690            0          8      498   \n",
       "\n",
       "     train_scale  \n",
       "0            1.0  \n",
       "1            1.0  \n",
       "2            1.0  \n",
       "3            1.0  \n",
       "4            1.0  \n",
       "..           ...  \n",
       "445          1.0  \n",
       "446          1.0  \n",
       "447          1.0  \n",
       "448          1.0  \n",
       "449          1.0  \n",
       "\n",
       "[450 rows x 9 columns]"
      ]
     },
     "execution_count": 34,
     "metadata": {},
     "output_type": "execute_result"
    }
   ],
   "source": [
    "tr_info.loc[(tr_info.train_scale==scale)&\n",
    "                                (tr_info.subjid==subjid), \n",
    "                                ]"
   ]
  },
  {
   "cell_type": "code",
   "execution_count": 146,
   "metadata": {
    "ExecuteTime": {
     "end_time": "2021-05-06T12:33:33.195389Z",
     "start_time": "2021-05-06T12:33:29.299152Z"
    }
   },
   "outputs": [],
   "source": [
    "with open(join('data', 'trainX_sawtooth.dill'), \"rb\") as f:\n",
    "    trainX = pickle.load(f)\n",
    "with open(join('data', 'trainY_sawtooth.dill'), \"rb\") as f:\n",
    "    trainY = pickle.load(f)\n"
   ]
  },
  {
   "cell_type": "markdown",
   "metadata": {},
   "source": [
    "# Classes "
   ]
  },
  {
   "cell_type": "code",
   "execution_count": 135,
   "metadata": {
    "ExecuteTime": {
     "end_time": "2021-05-05T21:03:24.794341Z",
     "start_time": "2021-05-05T21:03:24.786743Z"
    }
   },
   "outputs": [],
   "source": [
    "class SITHCon_Classifier(nn.Module):\n",
    "    def __init__(self, out_classes, layer_params, \n",
    "                 act_func=nn.ReLU, batch_norm=False,\n",
    "                 dropout=.2):\n",
    "        super(SITHCon_Classifier, self).__init__()\n",
    "        last_channels = layer_params[-1]['channels']\n",
    "        self.transform_linears = nn.ModuleList([nn.Linear(l['channels'], l['channels'])\n",
    "                                                for l in layer_params])\n",
    "        self.sithcon_layers = nn.ModuleList([SITHCon_Layer(l, act_func) for l in layer_params])\n",
    "        self.to_out = nn.Linear(last_channels, out_classes)\n",
    "        \n",
    "        \n",
    "    def forward(self, inp):\n",
    "        \n",
    "        x = inp\n",
    "        #out = []\n",
    "        for i in range(len(self.sithcon_layers)):\n",
    "            x = self.sithcon_layers[i](x)\n",
    "            \n",
    "            x = F.relu(self.transform_linears[i](x[:,0,:,:].transpose(1,2)))\n",
    "            x = x.unsqueeze(1).transpose(2,3)\n",
    "\n",
    "            #out.append(x.clone())\n",
    "        x = x.transpose(2,3)[:, 0, :, :]\n",
    "        #x = x.transpose(2,3)[:, 0, :, :]\n",
    "        x = self.to_out(x)\n",
    "        return x"
   ]
  },
  {
   "cell_type": "markdown",
   "metadata": {},
   "source": [
    "# Functions"
   ]
  },
  {
   "cell_type": "code",
   "execution_count": 162,
   "metadata": {
    "ExecuteTime": {
     "end_time": "2021-05-06T21:03:14.476032Z",
     "start_time": "2021-05-06T21:03:14.453606Z"
    }
   },
   "outputs": [],
   "source": [
    "def gen_model(p):\n",
    "    sp1 = dict(in_features=50, \n",
    "               tau_min=1, tau_max=4000, buff_max=6500,\n",
    "               dt=1, ntau=p[0], k=p[1], g=0.0, ttype=ttype, \n",
    "               channels=35, kernel_width=p[2], dilation=p[3],\n",
    "               dropout=None, batch_norm=None)\n",
    "    sp2 = dict(in_features=sp1['channels'], \n",
    "               tau_min=1, tau_max=4000, buff_max=6500,\n",
    "               dt=1, ntau=p[0], k=p[1], g=0.0, ttype=ttype, \n",
    "               channels=35, kernel_width=p[2], dilation=p[3], \n",
    "               dropout=None, batch_norm=None)\n",
    "    sp3 = dict(in_features=sp2['channels'], \n",
    "               tau_min=1, tau_max=4000, buff_max=6500,\n",
    "               dt=1, ntau=p[0], k=p[1], g=0.0, ttype=ttype, \n",
    "               channels=35, kernel_width=p[2], dilation=p[3], \n",
    "               dropout=None, batch_norm=None)\n",
    "    layer_params = [sp1, sp2]#, sp3]\n",
    "    model = SITHCon_Classifier(10, layer_params, act_func=None,#nn.ReLU\n",
    "                              ).cuda()\n",
    "    return model\n",
    "\n",
    "def train(model, ttype, trainX, trainY, testX, testY, optimizer, loss_func, epoch, perf_file,\n",
    "          loss_buffer_size=100, batch_size=4, device='cuda',\n",
    "          prog_bar=None):\n",
    "    \n",
    "    perfs = []\n",
    "    losses = []\n",
    "    last_test_perf = 0\n",
    "    best_test_perf = -1\n",
    "    tot_trials = len(trainX)\n",
    "    \n",
    "    permute = np.arange(0, tot_trials)\n",
    "    np.random.shuffle(permute)\n",
    "    batches = int(np.ceil(tot_trials / batch_size))\n",
    "    for batch_idx in range(batches):\n",
    "        optimizer.zero_grad()\n",
    "        loss = 0\n",
    "        for i in range(0, int(min(len(trainX) - (batch_idx*batch_size), \n",
    "                              batch_size))\n",
    "                       ):\n",
    "            iv = trainX[permute[batch_idx*batch_size + i]]\n",
    "            \n",
    "            iv = ttype(iv).unsqueeze(0).unsqueeze(0)\n",
    "            tv = torch.cuda.LongTensor([trainY[permute[batch_idx*batch_size + i]]])\n",
    "            out = model(iv)\n",
    "            loss += loss_func(out[:, -1, :],\n",
    "                             tv)\n",
    "            perfs.append((torch.argmax(out[:, -1, :], dim=-1) == \n",
    "                      tv).sum().item())\n",
    "        loss = loss / min(len(trainX) - (batch_idx*batch_size), \n",
    "                              batch_size)\n",
    "        loss.backward()\n",
    "        optimizer.step()\n",
    "        \n",
    "        #perfs.append(0)\n",
    "        #perfs = perfs[int(-loss_buffer_size/batch_size):]\n",
    "        losses.append(loss.detach().cpu().numpy())\n",
    "        losses = losses[-loss_buffer_size:]\n",
    "        perfs = perfs[-loss_buffer_size:]\n",
    "        \n",
    "        if ((batch_idx*batch_size)%loss_buffer_size == 0) & (batch_idx != 0):\n",
    "            loss_track = {}\n",
    "            #last_test_perf = test_model(model, 'cuda', test_loader, \n",
    "            #                            batch_size)\n",
    "            loss_track['avg_loss'] = np.mean(losses)\n",
    "            #loss_track['last_test'] = last_test_perf\n",
    "            loss_track['training_perf'] = np.mean(perfs)\n",
    "            loss_track['epoch'] = epoch\n",
    "            loss_track['batch_idx'] = batch_idx\n",
    "            with open(perf_file, 'a+') as fp:\n",
    "                csv_writer = DictWriter(fp, fieldnames=list(loss_track.keys()))\n",
    "                if fp.tell() == 0:\n",
    "                    csv_writer.writeheader()\n",
    "                csv_writer.writerow(loss_track)\n",
    "                fp.flush()\n",
    "            if best_test_perf < last_test_perf:\n",
    "                torch.save(model.state_dict(), perf_file[:-4]+\".pt\")\n",
    "                best_test_perf = last_test_perf\n",
    "        if not (prog_bar is None):\n",
    "            # Update progress_bar\n",
    "            s = \"{}:{} Loss: {:.5f}, Tperf: {:.4f}, valid: {:.4f}\"\n",
    "            format_list = [epoch,batch_idx*batch_size, np.mean(losses), \n",
    "                           np.mean(perfs),\n",
    "                           last_test_perf]         \n",
    "            s = s.format(*format_list)\n",
    "            prog_bar.set_description(s)\n",
    "            \n",
    "def test_model(model, device, test_loader, batch_size):\n",
    "    # Test the Model\n",
    "    perfs = []\n",
    "    tot = 0.0\n",
    "    total_num = 0.0\n",
    "    with torch.no_grad():\n",
    "        for data, target in test_loader:\n",
    "            data = data.to(device).unsqueeze(1)\n",
    "            batch = data.shape[0]\n",
    "            target = target.to(device)\n",
    "            out = model(data)\n",
    "            total_num += batch\n",
    "            tot += (torch.argmax(out[:, -1, :], \n",
    "                                 dim=-1) == target).sum().item()\n",
    "            \n",
    "    perf = tot / total_num\n",
    "    return perf\n",
    "\n",
    "def save_outcome(outcome, filename):\n",
    "    dat = pd.DataFrame(outcome)\n",
    "    dat.to_csv(join('perf',filename))"
   ]
  },
  {
   "cell_type": "markdown",
   "metadata": {},
   "source": [
    "# Go!"
   ]
  },
  {
   "cell_type": "code",
   "execution_count": 163,
   "metadata": {
    "ExecuteTime": {
     "end_time": "2021-05-06T21:03:17.729422Z",
     "start_time": "2021-05-06T21:03:17.723711Z"
    }
   },
   "outputs": [],
   "source": [
    "params = [\n",
    "          [400, 35, 23, 2],\n",
    "          ]\n"
   ]
  },
  {
   "cell_type": "code",
   "execution_count": 164,
   "metadata": {
    "ExecuteTime": {
     "end_time": "2021-05-06T21:03:17.955555Z",
     "start_time": "2021-05-06T21:03:17.949918Z"
    }
   },
   "outputs": [
    {
     "name": "stdout",
     "output_type": "stream",
     "text": [
      "992\n"
     ]
    }
   ],
   "source": [
    "62*16\n",
    "batch_size=16\n",
    "loss_buffer_size = 16*62\n",
    "print(loss_buffer_size)"
   ]
  },
  {
   "cell_type": "code",
   "execution_count": null,
   "metadata": {
    "ExecuteTime": {
     "start_time": "2021-05-06T21:03:18.761Z"
    }
   },
   "outputs": [
    {
     "name": "stdout",
     "output_type": "stream",
     "text": [
      "Total Weights: 71375\n"
     ]
    },
    {
     "data": {
      "application/vnd.jupyter.widget-view+json": {
       "model_id": "0e56e4c82543473692823a9431e92943",
       "version_major": 2,
       "version_minor": 0
      },
      "text/plain": [
       "HBox(children=(FloatProgress(value=0.0, max=10.0), HTML(value='')))"
      ]
     },
     "metadata": {},
     "output_type": "display_data"
    }
   ],
   "source": [
    "#runs = 5\n",
    "#for r in range(runs):\n",
    "for i, p in enumerate(params):\n",
    "    model = gen_model(p)\n",
    "\n",
    "    tot_weights = 0\n",
    "    for p in model.parameters():\n",
    "        tot_weights += p.numel()\n",
    "    print(\"Total Weights:\", tot_weights)\n",
    "\n",
    "    loss_func = torch.nn.CrossEntropyLoss()\n",
    "    optimizer = torch.optim.Adam(model.parameters())\n",
    "    epochs = 10\n",
    "    Trainscale = 10\n",
    "    device='cuda'\n",
    "    progress_bar = tqdm(range(int(epochs)), bar_format='{l_bar}{bar:5}{r_bar}{bar:-5b}')\n",
    "    epochperfs = []\n",
    "    times_100 = 0\n",
    "    for epoch_idx in progress_bar:\n",
    "        perfs = []\n",
    "        losses = []\n",
    "        model.train()\n",
    "        train(model, ttype, trainX, trainY, None, None,\n",
    "              optimizer, loss_func, batch_size=batch_size, loss_buffer_size=loss_buffer_size,\n",
    "              epoch=epoch_idx, perf_file=join('perf','sithcon_audiomixed_startsat1_5052021_sawtooth_{}.csv'.format(0)),\n",
    "              prog_bar=progress_bar)"
   ]
  },
  {
   "cell_type": "code",
   "execution_count": 167,
   "metadata": {
    "ExecuteTime": {
     "end_time": "2021-05-07T13:18:00.024045Z",
     "start_time": "2021-05-07T13:17:59.980899Z"
    }
   },
   "outputs": [
    {
     "data": {
      "text/plain": [
       "<All keys matched successfully>"
      ]
     },
     "execution_count": 167,
     "metadata": {},
     "output_type": "execute_result"
    }
   ],
   "source": [
    "# Load best performing model on training\n",
    "model.load_state_dict(torch.load('perf/sithcon_audiomixed_startsat1_5052021_sawtooth_0.pt'))"
   ]
  },
  {
   "cell_type": "code",
   "execution_count": 168,
   "metadata": {
    "ExecuteTime": {
     "end_time": "2021-05-07T13:40:22.097029Z",
     "start_time": "2021-05-07T13:18:03.419344Z"
    },
    "scrolled": true
   },
   "outputs": [
    {
     "name": "stdout",
     "output_type": "stream",
     "text": [
      "{'perf': 0.7694915254237288, 'scal': 10.0}\n",
      "{'perf': 0.7690000000000001, 'scal': 5.0}\n",
      "{'perf': 0.9486666666666664, 'scal': 2.5}\n",
      "{'perf': 0.9616666666666667, 'scal': 1.25}\n",
      "{'perf': 0.9681355932203389, 'scal': 1.0}\n",
      "{'perf': 0.9656666666666667, 'scal': 0.8}\n",
      "{'perf': 0.967, 'scal': 0.4}\n",
      "{'perf': 0.97, 'scal': 0.2}\n",
      "{'perf': 0.963, 'scal': 0.1}\n"
     ]
    }
   ],
   "source": [
    "batch_size = 1\n",
    "scales = [\n",
    "          '10.00', \n",
    "          '05.00', \n",
    "          '02.50',\n",
    "          '01.25', \n",
    "          '01.00', \n",
    "          '00.80', \n",
    "          '00.40', \n",
    "          '00.20', \n",
    "          '00.10'\n",
    "          ]\n",
    "scale_perf = []\n",
    "for scale in scales:\n",
    "    test_paths = join('/media', 'root', 'easystore', 'experiments', \n",
    "                     'audiomnist', scale, 'AudioMNIST', 'data')\n",
    "    full_file = glob.glob(join(test_paths, \"*\"))\n",
    "    subj_perfs = []\n",
    "    for filename in full_file:\n",
    "        test_dat = np.load(filename)\n",
    "        \n",
    "        testX = test_dat[list(all_files.loc[(all_files.rec_split==9)&\n",
    "                                            (all_files.subjid==int(filename.split(\"_\")[-2])), 'dat_idx'])]\n",
    "        testY = np.array(all_files.loc[(all_files.rec_split==9)&\n",
    "                                       (all_files.subjid==int(filename.split(\"_\")[-2])), 'digit'])\n",
    "        dataset_test = torch.utils.data.TensorDataset(torch.Tensor(testX).cuda(), \n",
    "                                                       torch.LongTensor(testY).cuda())\n",
    "        dataset_test = torch.utils.data.DataLoader(dataset_test, batch_size=batch_size, shuffle=False)\n",
    "        last_test_perf = test_model(model, 'cuda',\n",
    "                                    dataset_test, batch_size)\n",
    "        subj_perfs.append(last_test_perf)\n",
    "    scoredict = {'perf':np.mean(subj_perfs),\n",
    "                       'scal':float(scale)}\n",
    "    print(scoredict)\n",
    "    scale_perf.append(scoredict)\n",
    "scale_perfs = pd.DataFrame(scale_perf)\n",
    "scale_perfs.to_pickle(join(\"perf\", \"sith_mixed_test_startsat1_5032021_sawtooth.dill\"))"
   ]
  },
  {
   "cell_type": "code",
   "execution_count": null,
   "metadata": {},
   "outputs": [],
   "source": []
  }
 ],
 "metadata": {
  "kernelspec": {
   "display_name": "Python 3",
   "language": "python",
   "name": "python3"
  },
  "language_info": {
   "codemirror_mode": {
    "name": "ipython",
    "version": 3
   },
   "file_extension": ".py",
   "mimetype": "text/x-python",
   "name": "python",
   "nbconvert_exporter": "python",
   "pygments_lexer": "ipython3",
   "version": "3.6.10"
  },
  "toc": {
   "nav_menu": {},
   "number_sections": true,
   "sideBar": true,
   "skip_h1_title": false,
   "title_cell": "Table of Contents",
   "title_sidebar": "Contents",
   "toc_cell": false,
   "toc_position": {},
   "toc_section_display": true,
   "toc_window_display": false
  }
 },
 "nbformat": 4,
 "nbformat_minor": 4
}
