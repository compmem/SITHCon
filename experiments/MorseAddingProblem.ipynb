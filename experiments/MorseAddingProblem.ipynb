{
 "cells": [
  {
   "cell_type": "code",
   "execution_count": 1,
   "metadata": {
    "ExecuteTime": {
     "end_time": "2021-02-12T15:51:21.123040Z",
     "start_time": "2021-02-12T15:51:20.952751Z"
    }
   },
   "outputs": [],
   "source": [
    "%matplotlib inline"
   ]
  },
  {
   "cell_type": "code",
   "execution_count": 2,
   "metadata": {
    "ExecuteTime": {
     "end_time": "2021-02-12T15:51:21.797859Z",
     "start_time": "2021-02-12T15:51:21.296809Z"
    }
   },
   "outputs": [
    {
     "name": "stdout",
     "output_type": "stream",
     "text": [
      "<class 'torch.cuda.FloatTensor'>\n"
     ]
    }
   ],
   "source": [
    "import matplotlib.pyplot as plt\n",
    "import seaborn as sn\n",
    "sn.set_context(\"poster\")\n",
    "\n",
    "import torch\n",
    "from torch import nn as nn\n",
    "ttype = torch.cuda.FloatTensor if torch.cuda.is_available() else torch.FloatTensor\n",
    "ctype = torch.cuda.LongTensor if torch.cuda.is_available() else torch.LongTensor\n",
    "print(ttype)\n",
    "import torch.nn.functional as F\n",
    "from matplotlib import gridspec\n",
    "from sithcon import SITHCon_Layer, _SITHCon_Core, iSITH\n",
    "\n",
    "from tqdm.notebook import tqdm\n",
    "\n",
    "import itertools\n",
    "from csv import DictWriter\n",
    "import os \n",
    "from os.path import join\n",
    "import glob\n",
    "\n",
    "import numpy as np\n",
    "import pandas as pd\n",
    "import pickle\n",
    "from math import factorial\n",
    "import random"
   ]
  },
  {
   "cell_type": "code",
   "execution_count": 3,
   "metadata": {},
   "outputs": [],
   "source": [
    "MORSE_CODE_DICT = {'1':'.----', '2':'..---', '3':'...--', \n",
    "                    '4':'....-', '5':'.....', '6':'-....', \n",
    "                    '7':'--...', '8':'---..', '9':'----.', \n",
    "                    '0':'-----', } \n",
    "\n",
    "# SHORTER\n",
    "MORSE_CODE_DICT = {'1':'.-', '2':'-...', \n",
    "                    '3':'-.-.', '4':'-..', '5':'.', \n",
    "                    '6':'..-.', '7':'--.', '8':'....', \n",
    "                    '9':'..', '0':'.---',}"
   ]
  },
  {
   "cell_type": "code",
   "execution_count": null,
   "metadata": {},
   "outputs": [],
   "source": []
  },
  {
   "cell_type": "code",
   "execution_count": 4,
   "metadata": {},
   "outputs": [
    {
     "name": "stdout",
     "output_type": "stream",
     "text": [
      "\n",
      "[1 0 1 1 1 0 0 0] 1\n",
      "[1 1 1 0 1 0 1 0 1 0 0 0] 2\n",
      "[1 1 1 0 1 0 1 1 1 0 1 0 0 0] 3\n",
      "[1 1 1 0 1 0 1 0 0 0] 4\n",
      "[1 0 0 0] 5\n",
      "[1 0 1 0 1 1 1 0 1 0 0 0] 6\n",
      "[1 1 1 0 1 1 1 0 1 0 0 0] 7\n",
      "[1 0 1 0 1 0 1 0 0 0] 8\n",
      "[1 0 1 0 0 0] 9\n",
      "[1 0 1 1 1 0 1 1 1 0 1 1 1 0 0 0] 0\n"
     ]
    }
   ],
   "source": [
    "\n",
    "print()\n",
    "morse_code_numpy = {key:np.array([int(x) for x in MORSE_CODE_DICT[key].replace('.', '10').replace('-', '1110')] + [0, 0])\n",
    "                    for key in MORSE_CODE_DICT.keys()}\n",
    "for k in morse_code_numpy.keys():\n",
    "    print(morse_code_numpy[k], k)\n",
    "subset = list(morse_code_numpy.keys())\n"
   ]
  },
  {
   "cell_type": "code",
   "execution_count": 9,
   "metadata": {},
   "outputs": [
    {
     "name": "stdout",
     "output_type": "stream",
     "text": [
      "(480, 2)\n"
     ]
    },
    {
     "data": {
      "text/plain": [
       "Text(0.5, 1.0, '0.7000000000000001')"
      ]
     },
     "execution_count": 9,
     "metadata": {},
     "output_type": "execute_result"
    },
    {
     "data": {
      "image/png": "[encoded data removed]",
      "text/plain": [
       "<Figure size 432x288 with 2 Axes>"
      ]
     },
     "metadata": {
      "needs_background": "light"
     },
     "output_type": "display_data"
    }
   ],
   "source": [
    "def gen_item(samples=10, complexity=2, scale=5, target_scale=.1):\n",
    "    # We can tests 1s the same length as the items added together or 1 at the end only.\n",
    "    keys = morse_code_numpy.keys()\n",
    "    dim1 = []\n",
    "    dim2 = []\n",
    "    \n",
    "    added_indexes = np.random.randint(samples, size=complexity)\n",
    "    \n",
    "    answer = 0\n",
    "    for s in range(samples):\n",
    "        \n",
    "        # Grab Random Morse Code Letter\n",
    "        k = random.sample(keys, 1)[0]\n",
    "        mcl = morse_code_numpy[k]\n",
    "        Mmcl = mcl.repeat(scale)\n",
    "        dim1.append(Mmcl[:, np.newaxis])\n",
    "        if s in added_indexes:\n",
    "            \n",
    "            # dim2.append(np.ones(Mmcl.shape[0])[:, np.newaxis])\n",
    "            temp = np.zeros(Mmcl.shape[0])[:, np.newaxis]\n",
    "            temp[-scale:] = 1.0\n",
    "            # temp[-1:] = 1.0 # TRY THIS AT SOME POINT\n",
    "            dim2.append(temp)\n",
    "            answer += int(k)\n",
    "        else:\n",
    "            dim2.append(np.zeros(Mmcl.shape[0])[:, np.newaxis])\n",
    "    inp = np.concatenate([np.concatenate(dim1, axis=0),\n",
    "                          np.concatenate(dim2, axis=0)], axis=1)\n",
    "    \n",
    "    target = np.array([answer])\n",
    "    return inp, target*target_scale\n",
    "inp, tar = gen_item(10, 2, 5)\n",
    "print(inp.shape)\n",
    "plt.imshow(inp.T,aspect='auto')\n",
    "plt.grid()\n",
    "plt.colorbar()\n",
    "plt.title(tar[0])"
   ]
  },
  {
   "cell_type": "code",
   "execution_count": 6,
   "metadata": {},
   "outputs": [],
   "source": [
    "class SITHCon_Classifier(nn.Module):\n",
    "    def __init__(self, out_classes, layer_params, \n",
    "                 act_func=nn.ReLU, batch_norm=False,\n",
    "                 dropout=.2):\n",
    "        super(SITHCon_Classifier, self).__init__()\n",
    "        last_channels = layer_params[-1]['channels']\n",
    "        self.transform_linears = nn.ModuleList([nn.Linear(l['channels'], l['channels'])\n",
    "                                                for l in layer_params])\n",
    "        self.sithcon_layers = nn.ModuleList([SITHCon_Layer(l, act_func) for l in layer_params])\n",
    "        self.to_out = nn.Linear(last_channels, out_classes)\n",
    "        \n",
    "        \n",
    "    def forward(self, inp):\n",
    "        \n",
    "        x = inp\n",
    "        #out = []\n",
    "        for i in range(len(self.sithcon_layers)):\n",
    "            x = self.sithcon_layers[i](x)\n",
    "            \n",
    "            x = self.transform_linears[i](x[:,0,:,:].transpose(1,2))\n",
    "            x = x.unsqueeze(1).transpose(2,3)\n",
    "\n",
    "            #out.append(x.clone())\n",
    "        x = x.transpose(2,3)[:, 0, :, :]\n",
    "        #x = x.transpose(2,3)[:, 0, :, :]\n",
    "        x = self.to_out(x)\n",
    "        return x"
   ]
  },
  {
   "cell_type": "markdown",
   "metadata": {},
   "source": [
    "# Three Layers"
   ]
  },
  {
   "cell_type": "code",
   "execution_count": 7,
   "metadata": {},
   "outputs": [
    {
     "name": "stdout",
     "output_type": "stream",
     "text": [
      "Total Weights: 28051\n",
      "SITHCon_Classifier(\n",
      "  (transform_linears): ModuleList(\n",
      "    (0): Linear(in_features=25, out_features=25, bias=True)\n",
      "    (1): Linear(in_features=25, out_features=25, bias=True)\n",
      "    (2): Linear(in_features=25, out_features=25, bias=True)\n",
      "  )\n",
      "  (sithcon_layers): ModuleList(\n",
      "    (0): SITHCon_Layer(\n",
      "      (sithcon): _SITHCon_Core(\n",
      "        (sith): iSITH(ntau=500, tau_min=0.1, tau_max=1000.0, buff_max=2000, dt=1, k=30, g=0.0)\n",
      "        (conv): Conv2d(1, 25, kernel_size=(2, 20), stride=(1, 1), dilation=(1, 4), bias=False)\n",
      "        (maxp): MaxPool1d(kernel_size=424, stride=424, padding=0, dilation=1, ceil_mode=False)\n",
      "      )\n",
      "      (act_func): ReLU()\n",
      "    )\n",
      "    (1): SITHCon_Layer(\n",
      "      (sithcon): _SITHCon_Core(\n",
      "        (sith): iSITH(ntau=500, tau_min=0.1, tau_max=1000.0, buff_max=2000, dt=1, k=30, g=0.0)\n",
      "        (conv): Conv2d(1, 25, kernel_size=(25, 20), stride=(1, 1), dilation=(1, 4), bias=False)\n",
      "        (maxp): MaxPool1d(kernel_size=424, stride=424, padding=0, dilation=1, ceil_mode=False)\n",
      "      )\n",
      "      (act_func): ReLU()\n",
      "    )\n",
      "    (2): SITHCon_Layer(\n",
      "      (sithcon): _SITHCon_Core(\n",
      "        (sith): iSITH(ntau=500, tau_min=0.1, tau_max=1000.0, buff_max=2000, dt=1, k=30, g=0.0)\n",
      "        (conv): Conv2d(1, 25, kernel_size=(25, 20), stride=(1, 1), dilation=(1, 4), bias=False)\n",
      "        (maxp): MaxPool1d(kernel_size=424, stride=424, padding=0, dilation=1, ceil_mode=False)\n",
      "      )\n",
      "      (act_func): ReLU()\n",
      "    )\n",
      "  )\n",
      "  (to_out): Linear(in_features=25, out_features=1, bias=True)\n",
      ")\n"
     ]
    }
   ],
   "source": [
    "sp1 = dict(in_features=2, \n",
    "           tau_min=.1, tau_max=1000.0, buff_max=2000,\n",
    "           dt=1, ntau=500, k=30, g=0.0, ttype=ttype, \n",
    "           channels=25, kernel_width=20, dilation=4,\n",
    "           dropout=None, batch_norm=None)\n",
    "sp2 = dict(in_features=sp1['channels'], \n",
    "           tau_min=.1, tau_max=1000.0, buff_max=2000,\n",
    "           dt=1, ntau=500, k=30, g=0.0, ttype=ttype, \n",
    "           channels=25, kernel_width=20, dilation=4, \n",
    "           dropout=None, batch_norm=None)\n",
    "sp3 = dict(in_features=sp2['channels'], \n",
    "           tau_min=.1, tau_max=1000.0, buff_max=2000,\n",
    "           dt=1, ntau=500, k=30, g=0.0, ttype=ttype, \n",
    "           channels=25, kernel_width=20, dilation=4, \n",
    "           dropout=None, batch_norm=None)\n",
    "layer_params = [sp1, sp2, sp3]\n",
    "\n",
    "model = SITHCon_Classifier(1, layer_params, act_func=nn.ReLU).cuda()\n",
    "model\n",
    "tot_weights = 0\n",
    "for p in model.parameters():\n",
    "    tot_weights += p.numel()\n",
    "print(\"Total Weights:\", tot_weights)\n",
    "print(model)"
   ]
  },
  {
   "cell_type": "code",
   "execution_count": 10,
   "metadata": {},
   "outputs": [],
   "source": [
    "iv = inp\n",
    "iv = ttype(iv).unsqueeze(0).unsqueeze(0).transpose(-1,-2)\n",
    "out = model(iv)"
   ]
  },
  {
   "cell_type": "code",
   "execution_count": null,
   "metadata": {},
   "outputs": [
    {
     "data": {
      "application/vnd.jupyter.widget-view+json": {
       "model_id": "e07f6e015d7449bc9f902710ca2f4b12",
       "version_major": 2,
       "version_minor": 0
      },
      "text/plain": [
       "HBox(children=(FloatProgress(value=0.0, max=5000.0), HTML(value='')))"
      ]
     },
     "metadata": {},
     "output_type": "display_data"
    }
   ],
   "source": [
    "loss_func = nn.MSELoss()\n",
    "optimizer = torch.optim.Adam(model.parameters())\n",
    "epochs = 5000\n",
    "trials_per_epoch = 1000\n",
    "batch_size = 32\n",
    "device='cuda'\n",
    "progress_bar = tqdm(range(int(epochs)), bar_format='{l_bar}{bar:5}{r_bar}{bar:-5b}')\n",
    "\n",
    "for epoch_idx in progress_bar:\n",
    "    perfs = []\n",
    "    losses = []\n",
    "    model.train()\n",
    "    for batch_idx in range(trials_per_epoch):\n",
    "        optimizer.zero_grad()\n",
    "        loss = 0\n",
    "        for i in range(batch_size):\n",
    "            iv, tar = gen_item(10, 2, 5, .1)\n",
    "            iv = ttype(iv).unsqueeze(0).unsqueeze(0).transpose(-1,-2)\n",
    "            tv = ttype(tar)\n",
    "            out = model(iv)\n",
    "            loss += loss_func(out[:, -1, :],\n",
    "                             tv)\n",
    "        loss = loss / batch_size\n",
    "        loss.backward()\n",
    "        optimizer.step()\n",
    "        \n",
    "        perfs.append(0)\n",
    "        #perfs = perfs[int(-loss_buffer_size/batch_size):]\n",
    "        losses.append(loss.detach().cpu().numpy())\n",
    "        #losses = losses[int(-loss_buffer_size/batch_size):]\n",
    "        \n",
    "        \n",
    "        s = \"{}:{:2} Loss: {:.4f}, Perf: {:.4f}\"\n",
    "        format_list = [epoch_idx, batch_idx, np.mean(losses), \n",
    "                       np.sum(perfs)/((len(perfs)))]\n",
    "        s = s.format(*format_list)\n",
    "        progress_bar.set_description(s)"
   ]
  },
  {
   "cell_type": "code",
   "execution_count": null,
   "metadata": {},
   "outputs": [],
   "source": [
    "model.eval()\n",
    "evald = []\n",
    "test_numbers = 100\n",
    "for nr in range(1,20):\n",
    "    losses = []\n",
    "    for i in range(test_numbers):\n",
    "        iv, tar = gen_item(5, 2, 5)\n",
    "        iv = ttype(iv).unsqueeze(0).unsqueeze(0).transpose(-1,-2)\n",
    "        tv = ttype(tar)\n",
    "        out = model(iv)\n",
    "        loss = loss_func(out[:, -1, :],\n",
    "                         torch.cuda.LongTensor([tv]))\n",
    "        losses.append(loss)\n",
    "    print(nr, np.mean(losses))\n",
    "    evald.append([nr, np.mean(losses)])"
   ]
  },
  {
   "cell_type": "code",
   "execution_count": 24,
   "metadata": {},
   "outputs": [
    {
     "data": {
      "text/plain": [
       "<matplotlib.legend.Legend at 0x19019e7f4f0>"
      ]
     },
     "execution_count": 24,
     "metadata": {},
     "output_type": "execute_result"
    },
    {
     "data": {
      "image/png": "[encoded data removed]",
      "text/plain": [
       "<Figure size 720x360 with 1 Axes>"
      ]
     },
     "metadata": {
      "needs_background": "light"
     },
     "output_type": "display_data"
    }
   ],
   "source": [
    "fig=plt.figure(figsize=(10,5))\n",
    "plt.plot([e[0] for e in evald],\n",
    "         [e[1] for e in evald],\n",
    "         marker='o');\n",
    "\n",
    "plt.axvline(Trainscale, color='red', linestyle='--')\n",
    "plt.axhline(0, color='black')\n",
    "plt.ylim(-.05, 1.05)\n",
    "plt.grid()\n",
    "plt.title('Perf 3 Layer 43 Morse Code Letters')\n",
    "plt.ylabel('Accuracy')\n",
    "plt.xlabel('Testing Scale')\n",
    "plt.legend(['Accuracy', 'Training Scale'])"
   ]
  },
  {
   "cell_type": "code",
   "execution_count": null,
   "metadata": {},
   "outputs": [],
   "source": []
  }
 ],
 "metadata": {
  "kernelspec": {
   "display_name": "Python 3",
   "language": "python",
   "name": "python3"
  },
  "language_info": {
   "codemirror_mode": {
    "name": "ipython",
    "version": 3
   },
   "file_extension": ".py",
   "mimetype": "text/x-python",
   "name": "python",
   "nbconvert_exporter": "python",
   "pygments_lexer": "ipython3",
   "version": "3.8.3"
  },
  "toc": {
   "nav_menu": {},
   "number_sections": true,
   "sideBar": true,
   "skip_h1_title": false,
   "title_cell": "Table of Contents",
   "title_sidebar": "Contents",
   "toc_cell": false,
   "toc_position": {},
   "toc_section_display": true,
   "toc_window_display": false
  }
 },
 "nbformat": 4,
 "nbformat_minor": 4
}
